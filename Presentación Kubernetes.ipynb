{
 "cells": [
  {
   "cell_type": "code",
   "execution_count": null,
   "metadata": {
    "scrolled": true,
    "slideshow": {
     "slide_type": "skip"
    }
   },
   "outputs": [],
   "source": []
  },
  {
   "cell_type": "markdown",
   "metadata": {
    "slideshow": {
     "slide_type": "slide"
    }
   },
   "source": [
    "# Kubernetes\n",
    "\n",
    "Dados la problemática que presenta la escabilidad en entornos de múltiples servidores, se creó Kubernetes para permitir una administración de estos, permitiendo automatizar el despliegue, ajustar la escala y ayudar con el manejo de contenedores"
   ]
  },
  {
   "cell_type": "markdown",
   "metadata": {
    "slideshow": {
     "slide_type": "subslide"
    }
   },
   "source": [
    "### Un ejemplo\n",
    "\n",
    "Si durante la noche un servidor sufre un desperfecto, kubernetes se encargará de montar los contenedores perdidos en otros servidores para mantener el sistema funcionando"
   ]
  },
  {
   "cell_type": "markdown",
   "metadata": {
    "slideshow": {
     "slide_type": "slide"
    }
   },
   "source": [
    "Kubernetes tiene tres partes muy importantes:\n",
    "- Controladores: Se preocupan de decidir donde estarán los contenedores, los requerimientos que necesita cada uno\n",
    "- Workers: Máquinas que ejecutan pods, los nodos trabajan en red, es decir, si un nodo cae no importa, el controlador puede levantar los pods perdidos en otra máquina y la red continúa trabajando.\n",
    "- etcd: Aquí se almacena la información del estado de elemento miembro del clúster."
   ]
  },
  {
   "cell_type": "markdown",
   "metadata": {
    "slideshow": {
     "slide_type": "subslide"
    }
   },
   "source": [
    "\n",
    "![title](images/arquitectura)"
   ]
  },
  {
   "cell_type": "markdown",
   "metadata": {
    "slideshow": {
     "slide_type": "slide"
    }
   },
   "source": [
    "# Montando un clúster básico con Minikube\n",
    "\n"
   ]
  },
  {
   "cell_type": "markdown",
   "metadata": {
    "slideshow": {
     "slide_type": "subslide"
    }
   },
   "source": [
    "Chequear que la virtualización está habilitada en la bios del pc:  \n",
    "```egrep --color 'vmx|svm' /proc/cpuinfo```\n",
    "\n",
    "Instalar un operador de maquinas virtuales (VirtualBox, KVM, etc)  \n",
    "\n",
    "Instalar kubectl:\n",
    "```sudo pacman -S kubectl```\n",
    "\n",
    "Instalar minikube:\n",
    "```sudo pacman -S minikube```\n"
   ]
  },
  {
   "cell_type": "code",
   "execution_count": 6,
   "metadata": {
    "slideshow": {
     "slide_type": "subslide"
    }
   },
   "outputs": [
    {
     "name": "stdout",
     "output_type": "stream",
     "text": [
      "😄  [multinode-demo] minikube v1.13.1 en Arch 20.1.1\n",
      "✨  Using the kvm2 driver based on existing profile\n",
      "👍  Starting control plane node multinode-demo in cluster multinode-demo\n",
      "🏃  Updating the running kvm2 \"multinode-demo\" VM ...\n",
      "🎉  minikube 1.14.0 is available! Download it: https://github.com/kubernetes/minikube/releases/tag/v1.14.0\n",
      "💡  To disable this notice, run: 'minikube config set WantUpdateNotification false'\n",
      "\n",
      "🐳  Preparando Kubernetes v1.19.2 en Docker 19.03.12...\n",
      "🔗  Configuring CNI (Container Networking Interface) ...\n",
      "🔎  Verifying Kubernetes components...\n",
      "🌟  Enabled addons: default-storageclass, storage-provisioner\n",
      "❗  The cluster multinode-demo already exists which means the --nodes parameter will be ignored. Use \"minikube node add\" to add nodes to an existing cluster.\n",
      "👍  Starting node multinode-demo-m02 in cluster multinode-demo\n",
      "🏃  Updating the running kvm2 \"multinode-demo-m02\" VM ...\n",
      "🌐  Se han encontrado las siguientes opciones de red:\n",
      "    ▪ NO_PROXY=192.168.39.15\n",
      "🐳  Preparando Kubernetes v1.19.2 en Docker 19.03.12...\n",
      "    ▪ env NO_PROXY=192.168.39.15\n",
      "🔎  Verifying Kubernetes components...\n",
      "🏄  Done! kubectl is now configured to use \"multinode-demo\" by default\n"
     ]
    }
   ],
   "source": [
    "minikube start --nodes 2 -p multinode-demo"
   ]
  },
  {
   "cell_type": "code",
   "execution_count": 7,
   "metadata": {
    "slideshow": {
     "slide_type": "subslide"
    }
   },
   "outputs": [
    {
     "name": "stdout",
     "output_type": "stream",
     "text": [
      "NAME                 STATUS   ROLES    AGE   VERSION\n",
      "multinode-demo       Ready    master   16m   v1.19.2\n",
      "multinode-demo-m02   Ready    <none>   10m   v1.19.2\n"
     ]
    }
   ],
   "source": [
    "kubectl get nodes"
   ]
  },
  {
   "cell_type": "code",
   "execution_count": 8,
   "metadata": {
    "slideshow": {
     "slide_type": "fragment"
    }
   },
   "outputs": [
    {
     "name": "stdout",
     "output_type": "stream",
     "text": [
      "multinode-demo\n",
      "type: Control Plane\n",
      "host: Running\n",
      "kubelet: Running\n",
      "apiserver: Running\n",
      "kubeconfig: Configured\n",
      "\n",
      "multinode-demo-m02\n",
      "type: Worker\n",
      "host: Running\n",
      "kubelet: Running\n",
      "\n"
     ]
    }
   ],
   "source": [
    "minikube status -p multinode-demo"
   ]
  },
  {
   "cell_type": "markdown",
   "metadata": {
    "slideshow": {
     "slide_type": "slide"
    }
   },
   "source": [
    "## Conceptos\n",
    "\n"
   ]
  },
  {
   "cell_type": "markdown",
   "metadata": {
    "slideshow": {
     "slide_type": "subslide"
    }
   },
   "source": [
    "### Namespace  \n",
    "Básicamente crean clústers virtuales dentro del mismo clúster físico, ocupan la misma infraestructura pero cada uno permanece aislado del otro, por ejemplo esto es ideal para tener clústers de desarrollo y producción.  "
   ]
  },
  {
   "cell_type": "code",
   "execution_count": 12,
   "metadata": {
    "slideshow": {
     "slide_type": "fragment"
    }
   },
   "outputs": [
    {
     "name": "stdout",
     "output_type": "stream",
     "text": [
      "NAME              STATUS   AGE\n",
      "default           Active   72m\n",
      "kube-node-lease   Active   72m\n",
      "kube-public       Active   72m\n",
      "kube-system       Active   72m\n"
     ]
    }
   ],
   "source": [
    "kubectl get namespaces"
   ]
  },
  {
   "cell_type": "markdown",
   "metadata": {
    "slideshow": {
     "slide_type": "subslide"
    }
   },
   "source": [
    "### Pods  \n",
    "\n",
    "Es la unidad mas pequeña que maneja kubernetes, consiste en un conjunto de contenedores donde funciona alguna aplicación.  \n",
    "\n",
    "#### Consideraciones\n",
    "No use Pods desnudos (es decir, Pods que no estén vinculados a ReplicaSet o Deployment) si puede evitarlo. Los pods desnudos no se reprogramarán en caso de falla de un nodo.  \n",
    "\n",
    "Una deployment crea un ReplicaSet para garantizar que la cantidad deseada de pods siempre esté disponible, y especifica una estrategia para reemplazar los pods (como RollingUpdate), es casi siempre preferible a crear pods directamente. Un job también puede ser apropiado."
   ]
  },
  {
   "cell_type": "code",
   "execution_count": 13,
   "metadata": {
    "slideshow": {
     "slide_type": "fragment"
    }
   },
   "outputs": [
    {
     "name": "stdout",
     "output_type": "stream",
     "text": [
      "No resources found in default namespace.\n"
     ]
    }
   ],
   "source": [
    "kubectl get pods"
   ]
  },
  {
   "cell_type": "markdown",
   "metadata": {
    "slideshow": {
     "slide_type": "subslide"
    }
   },
   "source": [
    "### Servicios  \n",
    "\n",
    "Es una abstracción que define un conjunto de pods que implementan un micro-servicio.  \n",
    "\n",
    "Existen 3 tipos de servicios:\n",
    "\n"
   ]
  },
  {
   "cell_type": "markdown",
   "metadata": {
    "slideshow": {
     "slide_type": "subslide"
    }
   },
   "source": [
    "ClusterIP:  \n",
    "Solo permite el acceso interno entre distintos servicios. Es el tipo por defecto. Podemos acceder desde el exterior con la instrucción kubectl proxy, puede de ser gran ayuda para los desarrolladores.  \n",
    "\n",
    "![title](images/ClusterIP)"
   ]
  },
  {
   "cell_type": "markdown",
   "metadata": {
    "slideshow": {
     "slide_type": "subslide"
    }
   },
   "source": [
    "NodePort:  \n",
    "Abre un puerto, para que el servicio sea accesible desde el exterior. Por defecto el puerto generado está en el rango de 30000:40000. Para acceder usamos la ip del servidor master del cluster y el puerto asignado.\n",
    "\n",
    "![title](images/NodePort)"
   ]
  },
  {
   "cell_type": "markdown",
   "metadata": {
    "slideshow": {
     "slide_type": "subslide"
    }
   },
   "source": [
    "LoadBalancer:  \n",
    "Este tipo sólo esta soportado en servicios de cloud público (GKE, AKS o AWS). El proveedor asignara un recurso de balanceo ed carga para el acceso a los servicios. si usamos un cloud privado, como OpenSatck necesitaremos un plugin para configurar el funcionamiento.\n",
    "\n",
    "![title](images/LoadBalancer)"
   ]
  },
  {
   "cell_type": "markdown",
   "metadata": {
    "slideshow": {
     "slide_type": "subslide"
    }
   },
   "source": [
    "#### Consideraciones\n",
    "Define y usa etiquetas que identifiquen atributos semanticos de tu aplicación o deployment, por ejemplo:\n",
    "```{ app: myapp, tier: frontend, phase: test, deployment: v3 }```. Puedes usar estas etiquetas para seleccionar apropiadamente los pods para otros recursos; por ejemplo, si quiero que un servicio seleccione todos los pods ```tier: frontend``` o todos los componentes ```phase: test``` de la ```app: myapp```."
   ]
  },
  {
   "cell_type": "code",
   "execution_count": 14,
   "metadata": {
    "slideshow": {
     "slide_type": "subslide"
    }
   },
   "outputs": [
    {
     "name": "stdout",
     "output_type": "stream",
     "text": [
      "NAME         TYPE        CLUSTER-IP   EXTERNAL-IP   PORT(S)   AGE\n",
      "kubernetes   ClusterIP   10.96.0.1    <none>        443/TCP   75m\n"
     ]
    }
   ],
   "source": [
    "kubectl get services"
   ]
  },
  {
   "cell_type": "markdown",
   "metadata": {
    "slideshow": {
     "slide_type": "subslide"
    }
   },
   "source": [
    "### Manifiestos  \n",
    "Son documentos utilizados para crear, modificar o eliminar recursos de Kubernetes, como pods, despliegues, servicios e ingresos.\n"
   ]
  },
  {
   "cell_type": "code",
   "execution_count": 14,
   "metadata": {
    "slideshow": {
     "slide_type": "fragment"
    }
   },
   "outputs": [
    {
     "name": "stdout",
     "output_type": "stream",
     "text": [
      "kind: Namespace\n",
      "apiVersion: v1\n",
      "metadata:\n",
      "  name: testing \n"
     ]
    }
   ],
   "source": [
    "cat yaml/00-namespace.yaml"
   ]
  },
  {
   "cell_type": "code",
   "execution_count": 1,
   "metadata": {
    "slideshow": {
     "slide_type": "fragment"
    }
   },
   "outputs": [
    {
     "name": "stdout",
     "output_type": "stream",
     "text": [
      "namespace/testing created\n"
     ]
    }
   ],
   "source": [
    "kubectl apply -f 00-namespace.yaml"
   ]
  },
  {
   "cell_type": "code",
   "execution_count": 2,
   "metadata": {
    "slideshow": {
     "slide_type": "fragment"
    }
   },
   "outputs": [
    {
     "name": "stdout",
     "output_type": "stream",
     "text": [
      "NAME              STATUS   AGE\n",
      "default           Active   137m\n",
      "kube-node-lease   Active   137m\n",
      "kube-public       Active   137m\n",
      "kube-system       Active   137m\n",
      "testing           Active   24s\n"
     ]
    }
   ],
   "source": [
    "kubectl get namespaces"
   ]
  },
  {
   "cell_type": "code",
   "execution_count": 17,
   "metadata": {
    "slideshow": {
     "slide_type": "subslide"
    }
   },
   "outputs": [
    {
     "name": "stdout",
     "output_type": "stream",
     "text": [
      "kind: Service           #pod, deployment, service, namespace, replicaset, StatefulSet, DaemonSet, \n",
      "                        #Job o lo que sea que vayas a describir\n",
      "apiVersion: v1\n",
      "metadata:\n",
      "  name: wordpress       #nombre del servicio en este caso\n",
      "spec:\n",
      "  type: NodePort        #Aquí se indica si se trabajará con las ip internas o se abrirá un puerto \n",
      "                        #para desplegarlo externamente, según vimos, NodePort ordena abrir un puerto\n",
      "                        #en el worker para poder acceder externamente a este servicio\n",
      "  ports:\n",
      "  - port:80             #Se indica el puerto que se abre en el worker\n",
      "    targetPort: 80      #Es el puerto al que apunta el servicio en cualquier pod que tenga el rol\n",
      "                        #wordpress\n",
      "    nodePort: 30000     #Es el puerto del nodo que apunta al 80 del pod\n",
      "  selector:\n",
      "    role: wordpress\n",
      "\n",
      "# Si se desea, se puede especificar otro recurso en el manifiesto separandolos por guiones\n",
      "#---\n"
     ]
    }
   ],
   "source": [
    "cat yaml/01-wordpress-service.yaml"
   ]
  },
  {
   "cell_type": "code",
   "execution_count": 20,
   "metadata": {},
   "outputs": [
    {
     "name": "stdout",
     "output_type": "stream",
     "text": [
      "service/wordpress created\n",
      "NAME        TYPE       CLUSTER-IP      EXTERNAL-IP   PORT(S)        AGE\n",
      "wordpress   NodePort   10.108.139.33   <none>        80:30000/TCP   1s\n"
     ]
    }
   ],
   "source": [
    "kubectl -n testing apply -f yaml/01-wordpress-service.yaml\n",
    "kubectl -n testing get services"
   ]
  },
  {
   "cell_type": "code",
   "execution_count": 21,
   "metadata": {},
   "outputs": [
    {
     "name": "stdout",
     "output_type": "stream",
     "text": [
      "apiVersion: v1\n",
      "kind: ReplicationController\n",
      "metadata:\n",
      "    name: wordpress\n",
      "spec:\n",
      "    replicas: 1\n",
      "    template:\n",
      "        metadata:\n",
      "            labels:\n",
      "                role: wordpress\n",
      "        spec:\n",
      "            containers:\n",
      "            - name: wordpress\n",
      "                image: wordpress:php7.1-apache\n",
      "                imagePullPolicy: IfNotPresent\n",
      "                ports:\n",
      "                - containerPort: 80\n"
     ]
    }
   ],
   "source": [
    "cat yaml/02-wordpress-rc.yaml"
   ]
  },
  {
   "cell_type": "markdown",
   "metadata": {},
   "source": [
    "La imagen se descarga por defecto desde DockerHub; si quieres usar un registry alternativo, debes indicar la URL completa al recurso."
   ]
  },
  {
   "cell_type": "code",
   "execution_count": 25,
   "metadata": {},
   "outputs": [
    {
     "name": "stdout",
     "output_type": "stream",
     "text": [
      "replicationcontroller/wordpress created\n",
      "NAME              READY   STATUS    RESTARTS   AGE\n",
      "wordpress-sjjwt   0/1     Pending   0          0s\n"
     ]
    }
   ],
   "source": [
    "kubectl -n testing apply -f yaml/02-wordpress-rc.yaml\n",
    "kubectl -n testing get pods"
   ]
  },
  {
   "cell_type": "code",
   "execution_count": 26,
   "metadata": {},
   "outputs": [
    {
     "name": "stdout",
     "output_type": "stream",
     "text": [
      "pod \"wordpress-sjjwt\" deleted\n",
      "NAME              READY   STATUS    RESTARTS   AGE\n",
      "wordpress-mqr2h   1/1     Running   0          41s\n"
     ]
    }
   ],
   "source": [
    "kubectl -n testing delete pod wordpress-sjjwt\n",
    "kubectl -n testing get pods"
   ]
  },
  {
   "cell_type": "code",
   "execution_count": null,
   "metadata": {},
   "outputs": [],
   "source": []
  }
 ],
 "metadata": {
  "celltoolbar": "Slideshow",
  "kernelspec": {
   "display_name": "Bash",
   "language": "bash",
   "name": "bash"
  },
  "language_info": {
   "codemirror_mode": "shell",
   "file_extension": ".sh",
   "mimetype": "text/x-sh",
   "name": "bash"
  }
 },
 "nbformat": 4,
 "nbformat_minor": 4
}
