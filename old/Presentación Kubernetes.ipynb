{
 "cells": [
  {
   "cell_type": "markdown",
   "metadata": {
    "scrolled": true,
    "slideshow": {
     "slide_type": "skip"
    }
   },
   "source": [
    "<style>.container { width:100% !important; }</style>"
   ]
  },
  {
   "cell_type": "markdown",
   "metadata": {
    "slideshow": {
     "slide_type": "slide"
    }
   },
   "source": [
    "# Kubernetes\n",
    "\n",
    "Dados la problemática que presenta la escabilidad en entornos de múltiples servidores, se creó Kubernetes para permitir una administración de estos, permitiendo automatizar el despliegue, ajustar la escala y ayudar con el manejo de contenedores"
   ]
  },
  {
   "cell_type": "markdown",
   "metadata": {
    "slideshow": {
     "slide_type": "subslide"
    }
   },
   "source": [
    "### Un ejemplo\n",
    "\n",
    "Si durante la noche un servidor sufre un desperfecto, kubernetes se encargará de montar los contenedores perdidos en otros servidores para mantener el sistema funcionando"
   ]
  },
  {
   "cell_type": "markdown",
   "metadata": {
    "slideshow": {
     "slide_type": "slide"
    }
   },
   "source": [
    "Kubernetes tiene tres partes muy importantes:\n",
    "- Controladores: Se preocupan de decidir donde estarán los contenedores, los requerimientos que necesita cada uno.\n",
    "- Workers: Máquinas que ejecutan pods, los nodos trabajan en red, es decir, si un nodo cae no importa, el controlador puede levantar los pods perdidos en otra máquina y la red continúa trabajando.\n",
    "- etcd: Aquí se almacena la información del estado de elemento miembro del clúster."
   ]
  },
  {
   "cell_type": "markdown",
   "metadata": {
    "cell_style": "split",
    "slideshow": {
     "slide_type": "subslide"
    }
   },
   "source": [
    "<img src=\"images/arquitectura\" width=\"800\" height=\"800\" align=\"center\"/>"
   ]
  },
  {
   "cell_type": "markdown",
   "metadata": {
    "cell_style": "split",
    "slideshow": {
     "slide_type": "fragment"
    }
   },
   "source": [
    "\n",
    "#### Kubelet\n",
    "Agente que se ejecuta en cada nodo de un clúster. Se asegura de que los contenedores estén corriendo en un pod.  \n",
    "El agente kubelet toma un conjunto de especificaciones de Pod, llamados PodSpecs, que han sido creados por Kubernetes y garantiza que los contenedores descritos en ellos estén funcionando y en buen estado."
   ]
  },
  {
   "cell_type": "markdown",
   "metadata": {
    "slideshow": {
     "slide_type": "fragment"
    }
   },
   "source": [
    "#### Scheduler\n",
    "Componente del plano de control que está pendiente de los Pods que no tienen ningún nodo asignado y seleciona uno donde ejecutarlo.  \n",
    "Para decidir en qué nodo se ejecutará el pod, se tienen en cuenta diversos factores: requisitos de recursos, restricciones de hardware/software/políticas, afinidad y anti-afinidad, localización de datos dependientes, entre otros."
   ]
  },
  {
   "cell_type": "markdown",
   "metadata": {
    "slideshow": {
     "slide_type": "subslide"
    }
   },
   "source": [
    "#### Controller-manager\n",
    "\n",
    "Componente del plano de control que ejecuta los controladores de Kubernetes.\n",
    "\n",
    "Lógicamente cada controlador es un proceso independiente, pero para reducir la complejidad, todos se compilan en un único binario y se ejecuta en un mismo proceso."
   ]
  },
  {
   "cell_type": "markdown",
   "metadata": {
    "cell_style": "split",
    "slideshow": {
     "slide_type": "fragment"
    }
   },
   "source": [
    "<img src=\"images/arquitectura\" width=\"800\" height=\"800\" align=\"center\"/>"
   ]
  },
  {
   "cell_type": "markdown",
   "metadata": {
    "cell_style": "split",
    "slideshow": {
     "slide_type": "fragment"
    }
   },
   "source": [
    "<font size=\"3\">Estos controladores incluyen:</font>\n",
    "  \n",
    "   **<font size=\"3\">Controlador de nodos</font>**<font size=\"3\">: es el responsable de detectar y responder cuándo un nodo deja de funcionar.</font>  \n",
    "   **<font size=\"3\">Controlador de replicación</font>**<font size=\"3\">: es el responsable de mantener el número correcto de pods para cada controlador de replicación del sistema.</font>  \n",
    "   **<font size=\"3\">Controlador de endpoints</font>**<font size=\"3\">: construye el objeto Endpoints, es decir, hace una unión entre los Services y los Pods.</font>  \n",
    "   **<font size=\"3\">Controladores de tokens y cuentas de servicio</font>**<font size=\"3\">: crean cuentas y tokens de acceso a la API por defecto para los nuevos Namespaces.</font>"
   ]
  },
  {
   "cell_type": "markdown",
   "metadata": {
    "slideshow": {
     "slide_type": "slide"
    }
   },
   "source": [
    "# Montando un clúster básico con Minikube\n",
    "\n"
   ]
  },
  {
   "cell_type": "markdown",
   "metadata": {
    "slideshow": {
     "slide_type": "subslide"
    }
   },
   "source": [
    "Chequear que la virtualización está habilitada en la bios del pc:  \n",
    "```egrep --color 'vmx|svm' /proc/cpuinfo```\n",
    "\n",
    "Instalar un operador de maquinas virtuales (VirtualBox, KVM, etc)  \n",
    "\n",
    "Instalar kubectl:\n",
    "```sudo pacman -S kubectl```\n",
    "\n",
    "Instalar minikube:\n",
    "```sudo pacman -S minikube```\n"
   ]
  },
  {
   "cell_type": "code",
   "execution_count": 57,
   "metadata": {
    "slideshow": {
     "slide_type": "subslide"
    }
   },
   "outputs": [
    {
     "name": "stdout",
     "output_type": "stream",
     "text": [
      "😄  minikube v1.13.1 en Arch 20.1.1\n",
      "✨  Automatically selected the kvm2 driver\n",
      "👍  Starting control plane node minikube in cluster minikube\n",
      "🔥  Creating kvm2 VM (CPUs=2, Memory=2400MB, Disk=20000MB) ...\n",
      "🐳  Preparando Kubernetes v1.19.2 en Docker 19.03.12...\n",
      "🔎  Verifying Kubernetes components...\n",
      "🌟  Enabled addons: default-storageclass, storage-provisioner\n",
      "🏄  Done! kubectl is now configured to use \"minikube\" by default\n"
     ]
    }
   ],
   "source": [
    "minikube start"
   ]
  },
  {
   "cell_type": "code",
   "execution_count": 58,
   "metadata": {
    "slideshow": {
     "slide_type": "subslide"
    }
   },
   "outputs": [
    {
     "name": "stdout",
     "output_type": "stream",
     "text": [
      "NAME       STATUS   ROLES    AGE     VERSION\n",
      "minikube   Ready    master   2m32s   v1.19.2\n"
     ]
    }
   ],
   "source": [
    "kubectl get nodes"
   ]
  },
  {
   "cell_type": "code",
   "execution_count": 60,
   "metadata": {
    "slideshow": {
     "slide_type": "fragment"
    }
   },
   "outputs": [
    {
     "name": "stdout",
     "output_type": "stream",
     "text": [
      "minikube\n",
      "type: Control Plane\n",
      "host: Running\n",
      "kubelet: Running\n",
      "apiserver: Running\n",
      "kubeconfig: Configured\n",
      "\n"
     ]
    }
   ],
   "source": [
    "minikube status"
   ]
  },
  {
   "cell_type": "markdown",
   "metadata": {
    "slideshow": {
     "slide_type": "slide"
    }
   },
   "source": [
    "## Conceptos\n",
    "\n"
   ]
  },
  {
   "cell_type": "markdown",
   "metadata": {
    "slideshow": {
     "slide_type": "subslide"
    }
   },
   "source": [
    "### Namespace  \n",
    "Básicamente crean clústers virtuales dentro del mismo clúster físico, ocupan la misma infraestructura pero cada uno permanece aislado del otro, por ejemplo esto es ideal para tener clústers de desarrollo y producción.  "
   ]
  },
  {
   "cell_type": "code",
   "execution_count": 61,
   "metadata": {
    "slideshow": {
     "slide_type": "fragment"
    }
   },
   "outputs": [
    {
     "name": "stdout",
     "output_type": "stream",
     "text": [
      "NAME              STATUS   AGE\n",
      "default           Active   2m17s\n",
      "kube-node-lease   Active   2m56s\n",
      "kube-public       Active   2m57s\n",
      "kube-system       Active   3m\n"
     ]
    }
   ],
   "source": [
    "kubectl get namespaces"
   ]
  },
  {
   "cell_type": "markdown",
   "metadata": {
    "slideshow": {
     "slide_type": "subslide"
    }
   },
   "source": [
    "### Pods  \n",
    "\n",
    "Es la unidad mas pequeña que maneja kubernetes, consiste en un conjunto de contenedores donde funciona alguna aplicación.  \n",
    "\n",
    "#### Consideraciones\n",
    "No use Pods desnudos (es decir, Pods que no estén vinculados a ReplicaSet o Deployment) si puede evitarlo. Los pods desnudos no se reprogramarán en caso de falla de un nodo.  \n",
    "\n",
    "Una deployment crea un ReplicaSet para garantizar que la cantidad deseada de pods siempre esté disponible, y especifica una estrategia para reemplazar los pods (como RollingUpdate), es casi siempre preferible a crear pods directamente. Un job también puede ser apropiado."
   ]
  },
  {
   "cell_type": "code",
   "execution_count": 62,
   "metadata": {
    "slideshow": {
     "slide_type": "fragment"
    }
   },
   "outputs": [
    {
     "name": "stdout",
     "output_type": "stream",
     "text": [
      "No resources found in default namespace.\n"
     ]
    }
   ],
   "source": [
    "kubectl get pods"
   ]
  },
  {
   "cell_type": "markdown",
   "metadata": {
    "slideshow": {
     "slide_type": "subslide"
    }
   },
   "source": [
    "### Servicios  \n",
    "\n",
    "Es una abstracción que define un conjunto de pods que implementan un micro-servicio.  \n",
    "\n",
    "Existen 3 tipos de servicios:\n",
    "\n"
   ]
  },
  {
   "cell_type": "markdown",
   "metadata": {
    "slideshow": {
     "slide_type": "subslide"
    }
   },
   "source": [
    "ClusterIP:  \n",
    "Solo permite el acceso interno entre distintos servicios. Es el tipo por defecto. Podemos acceder desde el exterior con la instrucción kubectl proxy, puede de ser gran ayuda para los desarrolladores.  \n",
    "\n",
    "![title](images/ClusterIP)"
   ]
  },
  {
   "cell_type": "markdown",
   "metadata": {
    "slideshow": {
     "slide_type": "subslide"
    }
   },
   "source": [
    "NodePort:  \n",
    "Abre un puerto, para que el servicio sea accesible desde el exterior. Por defecto el puerto generado está en el rango de 30000:40000. Para acceder usamos la ip del servidor master del cluster y el puerto asignado.\n",
    "\n",
    "![title](images/NodePort)"
   ]
  },
  {
   "cell_type": "markdown",
   "metadata": {
    "slideshow": {
     "slide_type": "subslide"
    }
   },
   "source": [
    "LoadBalancer:  \n",
    "Este tipo sólo esta soportado en servicios de cloud público (GKE, AKS o AWS). El proveedor asignara un recurso de balanceo ed carga para el acceso a los servicios. si usamos un cloud privado, como OpenSatck necesitaremos un plugin para configurar el funcionamiento.\n",
    "\n",
    "![title](images/LoadBalancer)"
   ]
  },
  {
   "cell_type": "markdown",
   "metadata": {
    "slideshow": {
     "slide_type": "subslide"
    }
   },
   "source": [
    "#### Consideraciones\n",
    "Define y usa etiquetas que identifiquen atributos semanticos de tu aplicación o deployment, por ejemplo:\n",
    "```{ app: myapp, tier: frontend, phase: test, deployment: v3 }```. Puedes usar estas etiquetas para seleccionar apropiadamente los pods para otros recursos; por ejemplo, si quiero que un servicio seleccione todos los pods ```tier: frontend``` o todos los componentes ```phase: test``` de la ```app: myapp```."
   ]
  },
  {
   "cell_type": "code",
   "execution_count": 63,
   "metadata": {
    "slideshow": {
     "slide_type": "subslide"
    }
   },
   "outputs": [
    {
     "name": "stdout",
     "output_type": "stream",
     "text": [
      "NAME         TYPE        CLUSTER-IP   EXTERNAL-IP   PORT(S)   AGE\n",
      "kubernetes   ClusterIP   10.96.0.1    <none>        443/TCP   2m26s\n"
     ]
    }
   ],
   "source": [
    "kubectl get services"
   ]
  },
  {
   "cell_type": "markdown",
   "metadata": {
    "slideshow": {
     "slide_type": "subslide"
    }
   },
   "source": [
    "### Manifiestos  \n",
    "\n",
    "Los recursos pueden crearse directamente desde la línea de comandos, pero esto no es recomendable en producción debido a los potenciales errores humanos al realizar estas tareas, por esta razón es mejor utilizar los manifiestos.\n",
    "\n",
    "Los manifiestos son documentos utilizados para crear, modificar o eliminar recursos de Kubernetes, como pods, despliegues, servicios e ingresos."
   ]
  },
  {
   "cell_type": "code",
   "execution_count": 14,
   "metadata": {
    "slideshow": {
     "slide_type": "fragment"
    }
   },
   "outputs": [
    {
     "name": "stdout",
     "output_type": "stream",
     "text": [
      "kind: Namespace\n",
      "apiVersion: v1\n",
      "metadata:\n",
      "  name: testing \n"
     ]
    }
   ],
   "source": [
    "cat yaml/00-namespace.yaml"
   ]
  },
  {
   "cell_type": "code",
   "execution_count": 65,
   "metadata": {
    "slideshow": {
     "slide_type": "fragment"
    }
   },
   "outputs": [
    {
     "name": "stdout",
     "output_type": "stream",
     "text": [
      "namespace/testing created\n"
     ]
    }
   ],
   "source": [
    "kubectl apply -f yaml/00-namespace.yaml"
   ]
  },
  {
   "cell_type": "code",
   "execution_count": 66,
   "metadata": {
    "slideshow": {
     "slide_type": "fragment"
    }
   },
   "outputs": [
    {
     "name": "stdout",
     "output_type": "stream",
     "text": [
      "NAME              STATUS   AGE\n",
      "default           Active   2m54s\n",
      "kube-node-lease   Active   3m33s\n",
      "kube-public       Active   3m34s\n",
      "kube-system       Active   3m37s\n",
      "testing           Active   4s\n"
     ]
    }
   ],
   "source": [
    "kubectl get namespaces"
   ]
  },
  {
   "cell_type": "code",
   "execution_count": 17,
   "metadata": {
    "slideshow": {
     "slide_type": "subslide"
    }
   },
   "outputs": [
    {
     "name": "stdout",
     "output_type": "stream",
     "text": [
      "kind: Service           #pod, deployment, service, namespace, replicaset, StatefulSet, DaemonSet, \n",
      "                        #Job o lo que sea que vayas a describir\n",
      "apiVersion: v1\n",
      "metadata:\n",
      "  name: wordpress       #nombre del servicio en este caso\n",
      "spec:\n",
      "  type: NodePort        #Aquí se indica si se trabajará con las ip internas o se abrirá un puerto \n",
      "                        #para desplegarlo externamente, según vimos, NodePort ordena abrir un puerto\n",
      "                        #en el worker para poder acceder externamente a este servicio\n",
      "  ports:\n",
      "  - port:80             #Se indica el puerto que se abre en el worker\n",
      "    targetPort: 80      #Es el puerto al que apunta el servicio en cualquier pod que tenga el rol\n",
      "                        #wordpress\n",
      "    nodePort: 30000     #Es el puerto del nodo que apunta al 80 del pod\n",
      "  selector:\n",
      "    role: wordpress\n",
      "\n",
      "# Si se desea, se puede especificar otro recurso en el manifiesto separandolos por guiones\n",
      "#---\n"
     ]
    }
   ],
   "source": [
    "cat yaml/01-wordpress-service.yaml"
   ]
  },
  {
   "cell_type": "code",
   "execution_count": 67,
   "metadata": {
    "slideshow": {
     "slide_type": "fragment"
    }
   },
   "outputs": [
    {
     "name": "stdout",
     "output_type": "stream",
     "text": [
      "service/wordpress created\n",
      "NAME        TYPE       CLUSTER-IP    EXTERNAL-IP   PORT(S)        AGE\n",
      "wordpress   NodePort   10.109.82.5   <none>        80:30000/TCP   1s\n"
     ]
    }
   ],
   "source": [
    "kubectl -n testing apply -f yaml/01-wordpress-service.yaml\n",
    "kubectl -n testing get services"
   ]
  },
  {
   "cell_type": "code",
   "execution_count": 31,
   "metadata": {
    "cell_style": "split",
    "slideshow": {
     "slide_type": "subslide"
    }
   },
   "outputs": [
    {
     "name": "stdout",
     "output_type": "stream",
     "text": [
      "apiVersion: v1\n",
      "kind: ReplicationController\n",
      "metadata:\n",
      "  name: wordpress\n",
      "spec:\n",
      "  replicas: 1\n",
      "  template:\n",
      "    metadata:\n",
      "      labels:\n",
      "        role: wordpress\n",
      "    spec:\n",
      "      containers:\n",
      "      - name: wordpress\n",
      "        image: wordpress:php7.2-apache\n",
      "        imagePullPolicy: IfNotPresent\n",
      "        ports:\n",
      "        - containerPort: 80\n"
     ]
    }
   ],
   "source": [
    "cat yaml/02-wordpress-rc.yaml"
   ]
  },
  {
   "cell_type": "markdown",
   "metadata": {
    "cell_style": "split",
    "slideshow": {
     "slide_type": "fragment"
    }
   },
   "source": [
    "La imagen se descarga por defecto desde DockerHub; si quieres usar un registry alternativo, debes indicar la URL completa al recurso."
   ]
  },
  {
   "cell_type": "code",
   "execution_count": 84,
   "metadata": {
    "cell_style": "center",
    "slideshow": {
     "slide_type": "fragment"
    }
   },
   "outputs": [
    {
     "name": "stdout",
     "output_type": "stream",
     "text": [
      "replicationcontroller/wordpress unchanged\n",
      "NAME              READY   STATUS    RESTARTS   AGE\n",
      "wordpress-7tb7f   1/1     Running   0          24m\n"
     ]
    }
   ],
   "source": [
    "kubectl -n testing apply -f yaml/02-wordpress-rc.yaml\n",
    "kubectl -n testing get pods"
   ]
  },
  {
   "cell_type": "code",
   "execution_count": 85,
   "metadata": {
    "slideshow": {
     "slide_type": "fragment"
    }
   },
   "outputs": [
    {
     "name": "stdout",
     "output_type": "stream",
     "text": [
      "pod \"wordpress-7tb7f\" deleted\n",
      "NAME              READY   STATUS              RESTARTS   AGE\n",
      "wordpress-hrk4n   0/1     ContainerCreating   0          16s\n"
     ]
    }
   ],
   "source": [
    "kubectl -n testing delete pod wordpress-7tb7f\n",
    "kubectl -n testing get pods"
   ]
  },
  {
   "cell_type": "markdown",
   "metadata": {
    "slideshow": {
     "slide_type": "subslide"
    }
   },
   "source": [
    "Ahora podemos ver que nuestro servicio funciona correctamente"
   ]
  },
  {
   "cell_type": "code",
   "execution_count": 78,
   "metadata": {},
   "outputs": [
    {
     "name": "stdout",
     "output_type": "stream",
     "text": [
      "NAME       STATUS   ROLES    AGE    VERSION   INTERNAL-IP      EXTERNAL-IP   OS-IMAGE               KERNEL-VERSION   CONTAINER-RUNTIME\n",
      "minikube   Ready    master   7m6s   v1.19.2   192.168.39.225   <none>        Buildroot 2019.02.11   4.19.114         docker://19.3.12\n"
     ]
    }
   ],
   "source": [
    "kubectl get nodes -o wide"
   ]
  },
  {
   "cell_type": "code",
   "execution_count": 81,
   "metadata": {},
   "outputs": [
    {
     "name": "stdout",
     "output_type": "stream",
     "text": [
      "NAME        TYPE       CLUSTER-IP    EXTERNAL-IP   PORT(S)        AGE\n",
      "wordpress   NodePort   10.109.82.5   <none>        80:30000/TCP   11m\n"
     ]
    }
   ],
   "source": [
    "kubectl -n testing get services"
   ]
  },
  {
   "cell_type": "code",
   "execution_count": 82,
   "metadata": {},
   "outputs": [
    {
     "name": "stdout",
     "output_type": "stream",
     "text": [
      "http://192.168.39.225:30000\n"
     ]
    }
   ],
   "source": [
    "minikube service -n testing wordpress --url"
   ]
  },
  {
   "cell_type": "code",
   "execution_count": 80,
   "metadata": {},
   "outputs": [
    {
     "name": "stdout",
     "output_type": "stream",
     "text": [
      "🔌  Enabling dashboard ...\n",
      "🤔  Verifying dashboard health ...\n",
      "🚀  Launching proxy ...\n",
      "🤔  Verifying proxy health ...\n",
      "🎉  Opening http://127.0.0.1:46429/api/v1/namespaces/kubernetes-dashboard/services/http:kubernetes-dashboard:/proxy/ in your default browser...\n",
      "\n"
     ]
    }
   ],
   "source": [
    "minikube dashboard"
   ]
  },
  {
   "cell_type": "code",
   "execution_count": null,
   "metadata": {},
   "outputs": [],
   "source": []
  }
 ],
 "metadata": {
  "celltoolbar": "Slideshow",
  "kernelspec": {
   "display_name": "Bash",
   "language": "bash",
   "name": "bash"
  },
  "language_info": {
   "codemirror_mode": "shell",
   "file_extension": ".sh",
   "mimetype": "text/x-sh",
   "name": "bash"
  }
 },
 "nbformat": 4,
 "nbformat_minor": 4
}
