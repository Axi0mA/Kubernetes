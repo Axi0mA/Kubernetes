{
 "cells": [
  {
   "cell_type": "markdown",
   "metadata": {
    "scrolled": true,
    "slideshow": {
     "slide_type": "skip"
    }
   },
   "source": [
    "## Notas\n",
    "\n",
    "\n",
    "### Asignamiento de recursos de CPU y memoria a cada pod\n",
    "\n",
    "Pendiente\n",
    "https://www.youtube.com/watch?v=xTTJg1aJ4kg&list=PLqRCtm0kbeHA5M_E_Anwu-vh4NWlgrOY_&index=4\n",
    "\n",
    "\n",
    "### HPA\n",
    "Buscar sobre HPA (Horizontal pod autoscaling), se encarga de crear reglas para determinar la cantidad de pods, por ejemplo según uso de CPU o cantidad de memoria utilizada.\n",
    "https://www.youtube.com/watch?v=T6wRsmrm_gk&list=PLqRCtm0kbeHA5M_E_Anwu-vh4NWlgrOY_&index=5\n",
    "\n",
    "\n",
    "### LIVENESS Y READINESS PROBES\n",
    "\n",
    "https://www.youtube.com/watch?v=5gSc1ouW8rM&list=PLqRCtm0kbeHA5M_E_Anwu-vh4NWlgrOY_&index=6"
   ]
  },
  {
   "cell_type": "markdown",
   "metadata": {
    "slideshow": {
     "slide_type": "slide"
    }
   },
   "source": [
    "# Kubernetes\n",
    "\n",
    "Dada la problemática que presenta la escabilidad en entornos de múltiples servidores, se creó Kubernetes para permitir una administración de estos, permitiendo automatizar el despliegue, ajustar la escala y ayudar con el manejo de contenedores"
   ]
  },
  {
   "cell_type": "markdown",
   "metadata": {
    "slideshow": {
     "slide_type": "subslide"
    }
   },
   "source": [
    "### Un ejemplo\n",
    "\n",
    "Si durante la noche un servidor sufre un desperfecto, kubernetes se encargará de montar los contenedores perdidos en otros servidores para mantener el sistema funcionando"
   ]
  },
  {
   "cell_type": "markdown",
   "metadata": {
    "slideshow": {
     "slide_type": "slide"
    }
   },
   "source": [
    "Kubernetes tiene tres partes muy importantes:\n",
    "- Controladores: Se preocupan de decidir donde estarán los contenedores, los requerimientos que necesita cada uno.\n",
    "- Workers: Máquinas que ejecutan pods, los nodos trabajan en red, es decir, si un nodo cae no importa, el controlador puede levantar los pods perdidos en otra máquina y la red continúa trabajando.\n",
    "- etcd: Aquí se almacena la información del estado de elemento miembro del clúster."
   ]
  },
  {
   "cell_type": "markdown",
   "metadata": {
    "cell_style": "split",
    "slideshow": {
     "slide_type": "subslide"
    }
   },
   "source": [
    "<img src=\"images/arquitectura\" width=\"800\" height=\"800\" align=\"center\"/>"
   ]
  },
  {
   "cell_type": "markdown",
   "metadata": {
    "cell_style": "split",
    "slideshow": {
     "slide_type": "fragment"
    }
   },
   "source": [
    "\n",
    "#### Kubelet\n",
    "Agente que se ejecuta en cada nodo de un clúster. Se asegura de que los contenedores estén corriendo en un pod.  \n",
    "El agente kubelet toma un conjunto de especificaciones de Pod, llamados PodSpecs, que han sido creados por Kubernetes y garantiza que los contenedores descritos en ellos estén funcionando y en buen estado."
   ]
  },
  {
   "cell_type": "markdown",
   "metadata": {
    "slideshow": {
     "slide_type": "fragment"
    }
   },
   "source": [
    "#### Scheduler\n",
    "Componente del plano de control que está pendiente de los Pods que no tienen ningún nodo asignado y seleciona uno donde ejecutarlo.  \n",
    "Para decidir en qué nodo se ejecutará el pod, se tienen en cuenta diversos factores: requisitos de recursos, restricciones de hardware/software/políticas, afinidad y anti-afinidad, localización de datos dependientes, entre otros."
   ]
  },
  {
   "cell_type": "markdown",
   "metadata": {
    "slideshow": {
     "slide_type": "subslide"
    }
   },
   "source": [
    "#### Controller-manager\n",
    "\n",
    "Componente del plano de control que ejecuta los controladores de Kubernetes.\n",
    "\n",
    "Lógicamente cada controlador es un proceso independiente, pero para reducir la complejidad, todos se compilan en un único binario y se ejecuta en un mismo proceso."
   ]
  },
  {
   "cell_type": "markdown",
   "metadata": {
    "cell_style": "split",
    "slideshow": {
     "slide_type": "fragment"
    }
   },
   "source": [
    "<img src=\"images/arquitectura\" width=\"800\" height=\"800\" align=\"center\"/>"
   ]
  },
  {
   "cell_type": "markdown",
   "metadata": {
    "cell_style": "split",
    "slideshow": {
     "slide_type": "fragment"
    }
   },
   "source": [
    "<font size=\"3\">Estos controladores incluyen:</font>\n",
    "  \n",
    "   **<font size=\"3\">Controlador de nodos</font>**<font size=\"3\">: es el responsable de detectar y responder cuándo un nodo deja de funcionar.</font>  \n",
    "   **<font size=\"3\">Controlador de replicación</font>**<font size=\"3\">: es el responsable de mantener el número correcto de pods para cada controlador de replicación del sistema.</font>  \n",
    "   **<font size=\"3\">Controlador de endpoints</font>**<font size=\"3\">: construye el objeto Endpoints, es decir, hace una unión entre los Services y los Pods.</font>  \n",
    "   **<font size=\"3\">Controladores de tokens y cuentas de servicio</font>**<font size=\"3\">: crean cuentas y tokens de acceso a la API por defecto para los nuevos Namespaces.</font>"
   ]
  },
  {
   "cell_type": "markdown",
   "metadata": {
    "slideshow": {
     "slide_type": "slide"
    }
   },
   "source": [
    "# Montando un clúster básico con Minikube\n",
    "\n"
   ]
  },
  {
   "cell_type": "markdown",
   "metadata": {
    "slideshow": {
     "slide_type": "subslide"
    }
   },
   "source": [
    "Chequear que la virtualización está habilitada en la bios del pc:  \n",
    "```egrep --color 'vmx|svm' /proc/cpuinfo```\n",
    "\n",
    "Instalar un operador de maquinas virtuales (VirtualBox, KVM, etc)  \n",
    "\n",
    "Instalar kubectl:\n",
    "```sudo pacman -S kubectl```\n",
    "\n",
    "Instalar minikube:\n",
    "```sudo pacman -S minikube```\n"
   ]
  },
  {
   "cell_type": "code",
   "execution_count": 1,
   "metadata": {
    "slideshow": {
     "slide_type": "subslide"
    }
   },
   "outputs": [
    {
     "name": "stdout",
     "output_type": "stream",
     "text": [
      "😄  minikube v1.13.1 en Arch 20.1.1\n",
      "✨  Using the kvm2 driver based on existing profile\n",
      "👍  Starting control plane node minikube in cluster minikube\n",
      "🔄  Restarting existing kvm2 VM for \"minikube\" ...\n",
      "🐳  Preparando Kubernetes v1.19.2 en Docker 19.03.12...\n",
      "🔎  Verifying Kubernetes components...\n",
      "🔎  Verifying ingress addon...\n",
      "🌟  Enabled addons: default-storageclass, ingress, storage-provisioner\n",
      "🏄  Done! kubectl is now configured to use \"minikube\" by default\n"
     ]
    }
   ],
   "source": [
    "minikube start"
   ]
  },
  {
   "cell_type": "code",
   "execution_count": 2,
   "metadata": {
    "slideshow": {
     "slide_type": "subslide"
    }
   },
   "outputs": [
    {
     "name": "stdout",
     "output_type": "stream",
     "text": [
      "NAME       STATUS   ROLES    AGE   VERSION\n",
      "minikube   Ready    master   15h   v1.19.2\n"
     ]
    }
   ],
   "source": [
    "kubectl get nodes"
   ]
  },
  {
   "cell_type": "code",
   "execution_count": 32,
   "metadata": {
    "slideshow": {
     "slide_type": "fragment"
    }
   },
   "outputs": [
    {
     "name": "stdout",
     "output_type": "stream",
     "text": [
      "minikube\n",
      "type: Control Plane\n",
      "host: Running\n",
      "kubelet: Running\n",
      "apiserver: Running\n",
      "kubeconfig: Configured\n",
      "\n"
     ]
    }
   ],
   "source": [
    "minikube status"
   ]
  },
  {
   "cell_type": "markdown",
   "metadata": {
    "slideshow": {
     "slide_type": "slide"
    }
   },
   "source": [
    "## Conceptos\n",
    "\n"
   ]
  },
  {
   "cell_type": "markdown",
   "metadata": {
    "slideshow": {
     "slide_type": "subslide"
    }
   },
   "source": [
    "### Namespace  \n",
    "Básicamente crean clústers virtuales dentro del mismo clúster físico, ocupan la misma infraestructura pero cada uno permanece aislado del otro, por ejemplo esto es ideal para tener clústers de desarrollo y producción.  "
   ]
  },
  {
   "cell_type": "code",
   "execution_count": 33,
   "metadata": {
    "slideshow": {
     "slide_type": "fragment"
    }
   },
   "outputs": [
    {
     "name": "stdout",
     "output_type": "stream",
     "text": [
      "NAME              STATUS   AGE\n",
      "default           Active   176m\n",
      "kube-node-lease   Active   177m\n",
      "kube-public       Active   177m\n",
      "kube-system       Active   177m\n",
      "testing           Active   174m\n"
     ]
    }
   ],
   "source": [
    "kubectl get namespaces"
   ]
  },
  {
   "cell_type": "markdown",
   "metadata": {
    "slideshow": {
     "slide_type": "subslide"
    }
   },
   "source": [
    "### Pods  \n",
    "\n",
    "Es la unidad mas pequeña que maneja kubernetes, consiste en un conjunto de contenedores donde funciona alguna aplicación.  \n",
    "\n",
    "#### Consideraciones\n",
    "No use Pods desnudos (es decir, Pods que no estén vinculados a ReplicaSet o Deployment) si puede evitarlo. Los pods desnudos no se reprogramarán en caso de falla de un nodo.  \n",
    "\n",
    "Una deployment crea un ReplicaSet para garantizar que la cantidad deseada de pods siempre esté disponible, y especifica una estrategia para reemplazar los pods (como RollingUpdate), es casi siempre preferible a crear pods directamente. Un job también puede ser apropiado."
   ]
  },
  {
   "cell_type": "code",
   "execution_count": 34,
   "metadata": {
    "slideshow": {
     "slide_type": "fragment"
    }
   },
   "outputs": [
    {
     "name": "stdout",
     "output_type": "stream",
     "text": [
      "NAME                     READY   STATUS    RESTARTS   AGE\n",
      "hello-868bcb8b84-jndvc   1/1     Running   0          172m\n",
      "hello-868bcb8b84-rdd5h   1/1     Running   0          172m\n",
      "hello-868bcb8b84-xtft5   1/1     Running   0          172m\n"
     ]
    }
   ],
   "source": [
    "kubectl get pods"
   ]
  },
  {
   "cell_type": "markdown",
   "metadata": {
    "slideshow": {
     "slide_type": "subslide"
    }
   },
   "source": [
    "### Servicios  \n",
    "\n",
    "Es una abstracción que define un conjunto de pods que implementan un micro-servicio.  \n",
    "\n",
    "Existen 3 tipos de servicios:\n",
    "\n"
   ]
  },
  {
   "cell_type": "markdown",
   "metadata": {
    "slideshow": {
     "slide_type": "subslide"
    }
   },
   "source": [
    "ClusterIP:  \n",
    "Solo permite el acceso interno entre distintos servicios. Es el tipo por defecto. Podemos acceder desde el exterior con la instrucción kubectl proxy, puede de ser gran ayuda para los desarrolladores.  \n",
    "\n",
    "![title](images/ClusterIP)"
   ]
  },
  {
   "cell_type": "markdown",
   "metadata": {
    "slideshow": {
     "slide_type": "subslide"
    }
   },
   "source": [
    "NodePort:  \n",
    "Abre un puerto, para que el servicio sea accesible desde el exterior. Por defecto el puerto generado está en el rango de 30000:40000. Para acceder usamos la ip del servidor master del cluster y el puerto asignado.\n",
    "\n",
    "![title](images/NodePort)"
   ]
  },
  {
   "cell_type": "markdown",
   "metadata": {
    "slideshow": {
     "slide_type": "subslide"
    }
   },
   "source": [
    "LoadBalancer:  \n",
    "Este tipo sólo esta soportado en servicios de cloud público (GKE, AKS o AWS). El proveedor asignara un recurso de balanceo ed carga para el acceso a los servicios. si usamos un cloud privado, como OpenSatck necesitaremos un plugin para configurar el funcionamiento.\n",
    "\n",
    "![title](images/LoadBalancer)"
   ]
  },
  {
   "cell_type": "markdown",
   "metadata": {
    "slideshow": {
     "slide_type": "subslide"
    }
   },
   "source": [
    "#### Consideraciones\n",
    "Define y usa etiquetas que identifiquen atributos semanticos de tu aplicación o deployment, por ejemplo:\n",
    "```{ app: myapp, tier: frontend, phase: test, deployment: v3 }```. Puedes usar estas etiquetas para seleccionar apropiadamente los pods para otros recursos; por ejemplo, si quiero que un servicio seleccione todos los pods ```tier: frontend``` o todos los componentes ```phase: test``` de la ```app: myapp```."
   ]
  },
  {
   "cell_type": "code",
   "execution_count": 35,
   "metadata": {
    "slideshow": {
     "slide_type": "subslide"
    }
   },
   "outputs": [
    {
     "name": "stdout",
     "output_type": "stream",
     "text": [
      "NAME         TYPE        CLUSTER-IP   EXTERNAL-IP   PORT(S)   AGE\n",
      "kubernetes   ClusterIP   10.96.0.1    <none>        443/TCP   176m\n"
     ]
    }
   ],
   "source": [
    "kubectl get services"
   ]
  },
  {
   "cell_type": "markdown",
   "metadata": {
    "slideshow": {
     "slide_type": "subslide"
    }
   },
   "source": [
    "### Manifiestos  \n",
    "\n",
    "Los recursos pueden crearse directamente desde la línea de comandos, pero esto no es recomendable en producción debido a los potenciales errores humanos al realizar estas tareas, por esta razón es mejor utilizar los manifiestos.\n",
    "\n",
    "Los manifiestos son documentos utilizados para crear, modificar o eliminar recursos de Kubernetes, como pods, despliegues, servicios e ingresos."
   ]
  },
  {
   "cell_type": "code",
   "execution_count": 36,
   "metadata": {
    "cell_style": "split",
    "slideshow": {
     "slide_type": "fragment"
    }
   },
   "outputs": [
    {
     "name": "stdout",
     "output_type": "stream",
     "text": [
      "kind: Namespace\n",
      "apiVersion: v1\n",
      "metadata:\n",
      "  name: testing \n"
     ]
    }
   ],
   "source": [
    "cat yaml/00-namespace.yaml"
   ]
  },
  {
   "cell_type": "code",
   "execution_count": 37,
   "metadata": {
    "cell_style": "split",
    "slideshow": {
     "slide_type": "fragment"
    }
   },
   "outputs": [
    {
     "name": "stdout",
     "output_type": "stream",
     "text": [
      "namespace/testing unchanged\n"
     ]
    }
   ],
   "source": [
    "kubectl apply -f yaml/00-namespace.yaml"
   ]
  },
  {
   "cell_type": "code",
   "execution_count": 38,
   "metadata": {
    "slideshow": {
     "slide_type": "fragment"
    }
   },
   "outputs": [
    {
     "name": "stdout",
     "output_type": "stream",
     "text": [
      "NAME              STATUS   AGE\n",
      "default           Active   176m\n",
      "kube-node-lease   Active   177m\n",
      "kube-public       Active   177m\n",
      "kube-system       Active   177m\n",
      "testing           Active   175m\n"
     ]
    }
   ],
   "source": [
    "kubectl get namespaces"
   ]
  },
  {
   "cell_type": "code",
   "execution_count": 39,
   "metadata": {
    "slideshow": {
     "slide_type": "subslide"
    }
   },
   "outputs": [
    {
     "name": "stdout",
     "output_type": "stream",
     "text": [
      "#Por norma general, todos los manifiestos deben llevar:\n",
      "#   -Encabezado\n",
      "#   -Metadatos\n",
      "#   -Especificaciones\n",
      "\n",
      "kind: Service           #pod, deployment, service, namespace, replicaset, StatefulSet, DaemonSet, \n",
      "                        #Job o lo que sea que vayas a describir\n",
      "apiVersion: v1\n",
      "metadata:\n",
      "  name: wordpress       #nombre del servicio en este caso\n",
      "spec:\n",
      "  type: NodePort        #Aquí se indica si se trabajará con las ip internas o se abrirá un puerto \n",
      "                        #para desplegarlo externamente, según vimos, NodePort ordena abrir un puerto\n",
      "                        #en el worker para poder acceder externamente a este servicio\n",
      "  ports:\n",
      "  - port: 80             #Se indica el puerto que se abre en el worker\n",
      "    targetPort: 80      #Es el puerto al que apunta el servicio en cualquier pod que tenga el rol\n",
      "                        #wordpress\n",
      "    nodePort: 30000     #Es el puerto del nodo que apunta al 80 del pod\n",
      "  selector:\n",
      "    role: wordpress\n",
      "\n",
      "# Si se desea, se puede especificar otro recurso en el manifiesto separandolos por guiones\n",
      "#---\n"
     ]
    }
   ],
   "source": [
    "cat yaml/01-wordpress-service.yaml"
   ]
  },
  {
   "cell_type": "code",
   "execution_count": 40,
   "metadata": {
    "slideshow": {
     "slide_type": "fragment"
    }
   },
   "outputs": [
    {
     "name": "stdout",
     "output_type": "stream",
     "text": [
      "service/wordpress unchanged\n",
      "NAME        TYPE       CLUSTER-IP      EXTERNAL-IP   PORT(S)        AGE\n",
      "wordpress   NodePort   10.105.93.115   <none>        80:30000/TCP   175m\n"
     ]
    }
   ],
   "source": [
    "kubectl -n testing apply -f yaml/01-wordpress-service.yaml\n",
    "kubectl -n testing get services"
   ]
  },
  {
   "cell_type": "code",
   "execution_count": 41,
   "metadata": {
    "cell_style": "split",
    "slideshow": {
     "slide_type": "subslide"
    }
   },
   "outputs": [
    {
     "name": "stdout",
     "output_type": "stream",
     "text": [
      "apiVersion: v1\n",
      "kind: ReplicationController\n",
      "metadata:\n",
      "  name: wordpress\n",
      "spec:\n",
      "  replicas: 2\n",
      "  template:\n",
      "    metadata:\n",
      "      labels:\n",
      "        role: wordpress\n",
      "    spec:\n",
      "      containers:\n",
      "      - name: wordpress\n",
      "        image: wordpress:php7.2-apache\n",
      "        imagePullPolicy: IfNotPresent\n",
      "        ports:\n",
      "        - containerPort: 80\n"
     ]
    }
   ],
   "source": [
    "cat yaml/02-wordpress-rc.yaml"
   ]
  },
  {
   "cell_type": "markdown",
   "metadata": {
    "cell_style": "split",
    "slideshow": {
     "slide_type": "fragment"
    }
   },
   "source": [
    "La imagen se descarga por defecto desde DockerHub; si quieres usar un registry alternativo, debes indicar la URL completa al recurso."
   ]
  },
  {
   "cell_type": "code",
   "execution_count": 42,
   "metadata": {
    "cell_style": "center",
    "slideshow": {
     "slide_type": "fragment"
    }
   },
   "outputs": [
    {
     "name": "stdout",
     "output_type": "stream",
     "text": [
      "replicationcontroller/wordpress unchanged\n",
      "NAME              READY   STATUS    RESTARTS   AGE\n",
      "wordpress-hsp8r   1/1     Running   0          173m\n",
      "wordpress-t9ldz   1/1     Running   0          174m\n"
     ]
    }
   ],
   "source": [
    "kubectl -n testing apply -f yaml/02-wordpress-rc.yaml\n",
    "kubectl -n testing get pods"
   ]
  },
  {
   "cell_type": "code",
   "execution_count": 44,
   "metadata": {
    "slideshow": {
     "slide_type": "fragment"
    }
   },
   "outputs": [
    {
     "name": "stdout",
     "output_type": "stream",
     "text": [
      "pod \"wordpress-hsp8r\" deleted\n",
      "NAME              READY   STATUS              RESTARTS   AGE\n",
      "wordpress-smhzw   0/1     ContainerCreating   0          20s\n",
      "wordpress-t9ldz   1/1     Running             0          175m\n"
     ]
    }
   ],
   "source": [
    "kubectl -n testing delete pod wordpress-hsp8r\n",
    "kubectl -n testing get pods"
   ]
  },
  {
   "cell_type": "markdown",
   "metadata": {
    "slideshow": {
     "slide_type": "subslide"
    }
   },
   "source": [
    "Ahora podemos ver que nuestro servicio funciona correctamente"
   ]
  },
  {
   "cell_type": "code",
   "execution_count": 45,
   "metadata": {
    "slideshow": {
     "slide_type": "fragment"
    }
   },
   "outputs": [
    {
     "name": "stdout",
     "output_type": "stream",
     "text": [
      "NAME       STATUS   ROLES    AGE    VERSION   INTERNAL-IP      EXTERNAL-IP   OS-IMAGE               KERNEL-VERSION   CONTAINER-RUNTIME\n",
      "minikube   Ready    master   178m   v1.19.2   192.168.39.143   <none>        Buildroot 2019.02.11   4.19.114         docker://19.3.12\n"
     ]
    }
   ],
   "source": [
    "kubectl get nodes -o wide"
   ]
  },
  {
   "cell_type": "code",
   "execution_count": 46,
   "metadata": {
    "slideshow": {
     "slide_type": "fragment"
    }
   },
   "outputs": [
    {
     "name": "stdout",
     "output_type": "stream",
     "text": [
      "NAME        TYPE       CLUSTER-IP      EXTERNAL-IP   PORT(S)        AGE\n",
      "wordpress   NodePort   10.105.93.115   <none>        80:30000/TCP   175m\n"
     ]
    }
   ],
   "source": [
    "kubectl -n testing get services"
   ]
  },
  {
   "cell_type": "code",
   "execution_count": 47,
   "metadata": {
    "slideshow": {
     "slide_type": "fragment"
    }
   },
   "outputs": [
    {
     "name": "stdout",
     "output_type": "stream",
     "text": [
      "http://192.168.39.143:30000\n"
     ]
    }
   ],
   "source": [
    "minikube service -n testing wordpress --url"
   ]
  },
  {
   "cell_type": "markdown",
   "metadata": {
    "slideshow": {
     "slide_type": "slide"
    }
   },
   "source": [
    "## Deployments y ReplicaSets\n",
    "\n",
    "#### Deployment:\n",
    "Un controlador de Deployment proporciona actualizaciones declarativas para los Pods y los ReplicaSets.\n",
    "\n",
    "Cuando describes el estado deseado en un objeto Deployment, el controlador del Deployment se encarga de cambiar el estado actual al estado deseado de forma controlada. Puedes definir Deployments para crear nuevos ReplicaSets, o eliminar Deployments existentes y adoptar todos sus recursos con nuevos Deployments.\n",
    "\n",
    "#### ReplicaSets:\n",
    "El objeto de un ReplicaSet es el de mantener un conjunto estable de réplicas de Pods ejecutándose en todo momento. Así, se usa en numerosas ocasiones para garantizar la disponibilidad de un número específico de Pods idénticos."
   ]
  },
  {
   "cell_type": "code",
   "execution_count": 48,
   "metadata": {
    "cell_style": "split",
    "slideshow": {
     "slide_type": "subslide"
    }
   },
   "outputs": [
    {
     "name": "stdout",
     "output_type": "stream",
     "text": [
      "apiVersion: apps/v1\n",
      "kind: Deployment\n",
      "metadata:\n",
      "  name: hello\n",
      "spec:\n",
      "  replicas: 3\n",
      "  selector:\n",
      "    matchLabels:\n",
      "      role: hello\n",
      "  template:\n",
      "    metadata:\n",
      "      labels:\n",
      "        role: hello\n",
      "    spec:\n",
      "      containers:\n",
      "      - name: hello\n",
      "        image: gcr.io/google-samples/hello-app:1.0\n",
      "        imagePullPolicy: IfNotPresent\n",
      "        ports:\n",
      "        - containerPort: 8080\n",
      "\n",
      "        \n",
      "        \n"
     ]
    }
   ],
   "source": [
    "cat yaml/01-hello-app-deployment.yaml"
   ]
  },
  {
   "cell_type": "code",
   "execution_count": 49,
   "metadata": {
    "cell_style": "split",
    "slideshow": {
     "slide_type": "fragment"
    }
   },
   "outputs": [
    {
     "name": "stdout",
     "output_type": "stream",
     "text": [
      "deployment.apps/hello unchanged\n"
     ]
    }
   ],
   "source": [
    "kubectl apply -f yaml/01-hello-app-deployment.yaml"
   ]
  },
  {
   "cell_type": "markdown",
   "metadata": {
    "slideshow": {
     "slide_type": "subslide"
    }
   },
   "source": [
    "Estado actual tanto del Namespace testing como del default"
   ]
  },
  {
   "cell_type": "code",
   "execution_count": 50,
   "metadata": {
    "slideshow": {
     "slide_type": "fragment"
    }
   },
   "outputs": [
    {
     "name": "stdout",
     "output_type": "stream",
     "text": [
      "NAME                  READY   STATUS    RESTARTS   AGE\n",
      "pod/wordpress-smhzw   1/1     Running   0          2m29s\n",
      "pod/wordpress-t9ldz   1/1     Running   0          177m\n",
      "\n",
      "NAME                              DESIRED   CURRENT   READY   AGE\n",
      "replicationcontroller/wordpress   2         2         2       177m\n",
      "\n",
      "NAME                TYPE       CLUSTER-IP      EXTERNAL-IP   PORT(S)        AGE\n",
      "service/wordpress   NodePort   10.105.93.115   <none>        80:30000/TCP   177m\n"
     ]
    }
   ],
   "source": [
    "kubectl -n testing get all"
   ]
  },
  {
   "cell_type": "code",
   "execution_count": 51,
   "metadata": {
    "slideshow": {
     "slide_type": "fragment"
    }
   },
   "outputs": [
    {
     "name": "stdout",
     "output_type": "stream",
     "text": [
      "NAME                         READY   STATUS    RESTARTS   AGE\n",
      "pod/hello-868bcb8b84-jndvc   1/1     Running   0          175m\n",
      "pod/hello-868bcb8b84-rdd5h   1/1     Running   0          175m\n",
      "pod/hello-868bcb8b84-xtft5   1/1     Running   0          175m\n",
      "\n",
      "NAME                 TYPE        CLUSTER-IP   EXTERNAL-IP   PORT(S)   AGE\n",
      "service/kubernetes   ClusterIP   10.96.0.1    <none>        443/TCP   179m\n",
      "\n",
      "NAME                    READY   UP-TO-DATE   AVAILABLE   AGE\n",
      "deployment.apps/hello   3/3     3            3           176m\n",
      "\n",
      "NAME                               DESIRED   CURRENT   READY   AGE\n",
      "replicaset.apps/hello-868bcb8b84   3         3         3       175m\n"
     ]
    }
   ],
   "source": [
    "kubectl -n default get all"
   ]
  },
  {
   "cell_type": "markdown",
   "metadata": {
    "slideshow": {
     "slide_type": "subslide"
    }
   },
   "source": [
    "Si lo deseamos podemos aumentar la cantidad de pods para un deployment, para así asignar mas recursos a este."
   ]
  },
  {
   "cell_type": "code",
   "execution_count": 53,
   "metadata": {
    "slideshow": {
     "slide_type": "fragment"
    }
   },
   "outputs": [
    {
     "name": "stdout",
     "output_type": "stream",
     "text": [
      "deployment.apps/hello scaled\n"
     ]
    }
   ],
   "source": [
    "kubectl scale --replicas=5 deployment/hello"
   ]
  },
  {
   "cell_type": "code",
   "execution_count": 54,
   "metadata": {
    "slideshow": {
     "slide_type": "fragment"
    }
   },
   "outputs": [
    {
     "name": "stdout",
     "output_type": "stream",
     "text": [
      "NAME                         READY   STATUS              RESTARTS   AGE\n",
      "pod/hello-868bcb8b84-gtb5x   0/1     ContainerCreating   0          11s\n",
      "pod/hello-868bcb8b84-jndvc   1/1     Running             0          177m\n",
      "pod/hello-868bcb8b84-rdd5h   1/1     Running             0          177m\n",
      "pod/hello-868bcb8b84-w8rmx   0/1     ContainerCreating   0          11s\n",
      "pod/hello-868bcb8b84-xtft5   1/1     Running             0          177m\n",
      "\n",
      "NAME                 TYPE        CLUSTER-IP   EXTERNAL-IP   PORT(S)   AGE\n",
      "service/kubernetes   ClusterIP   10.96.0.1    <none>        443/TCP   3h\n",
      "\n",
      "NAME                    READY   UP-TO-DATE   AVAILABLE   AGE\n",
      "deployment.apps/hello   3/5     5            3           177m\n",
      "\n",
      "NAME                               DESIRED   CURRENT   READY   AGE\n",
      "replicaset.apps/hello-868bcb8b84   5         5         3       177m\n"
     ]
    }
   ],
   "source": [
    "kubectl -n default get all"
   ]
  },
  {
   "cell_type": "markdown",
   "metadata": {
    "slideshow": {
     "slide_type": "subslide"
    }
   },
   "source": [
    "Se crea el servicio hello para permitir el acceso externo a la aplicación"
   ]
  },
  {
   "cell_type": "code",
   "execution_count": 61,
   "metadata": {
    "cell_style": "split",
    "slideshow": {
     "slide_type": "fragment"
    }
   },
   "outputs": [
    {
     "name": "stdout",
     "output_type": "stream",
     "text": [
      "apiVersion: v1\n",
      "kind: Service\n",
      "metadata:\n",
      "  name: hello\n",
      "spec:\n",
      "  type: NodePort\n",
      "  ports:\n",
      "  - port: 8080\n",
      "    targetPort: 8080\n",
      "    nodePort: 30001\n",
      "  selector:\n",
      "    role: hello\n"
     ]
    }
   ],
   "source": [
    "cat yaml/02-hello-app-service-node-port.yaml"
   ]
  },
  {
   "cell_type": "code",
   "execution_count": 71,
   "metadata": {
    "cell_style": "split",
    "slideshow": {
     "slide_type": "fragment"
    }
   },
   "outputs": [
    {
     "name": "stdout",
     "output_type": "stream",
     "text": [
      "service/hello created\n"
     ]
    }
   ],
   "source": [
    "kubectl apply -f yaml/02-hello-app-service-node-port.yaml"
   ]
  },
  {
   "cell_type": "code",
   "execution_count": 72,
   "metadata": {
    "cell_style": "split",
    "scrolled": false,
    "slideshow": {
     "slide_type": "fragment"
    }
   },
   "outputs": [
    {
     "name": "stdout",
     "output_type": "stream",
     "text": [
      "Name:                     hello\n",
      "Namespace:                default\n",
      "Labels:                   <none>\n",
      "Annotations:              <none>\n",
      "Selector:                 role=hello\n",
      "Type:                     NodePort\n",
      "IP:                       10.100.218.209\n",
      "Port:                     <unset>  8080/TCP\n",
      "TargetPort:               8080/TCP\n",
      "NodePort:                 <unset>  30001/TCP\n",
      "Endpoints:                172.17.0.4:8080,172.17.0.5:8080,172.17.0.6:8080 + 2 more...\n",
      "Session Affinity:         None\n",
      "External Traffic Policy:  Cluster\n",
      "Events:                   <none>\n"
     ]
    }
   ],
   "source": [
    "kubectl describe service hello"
   ]
  },
  {
   "cell_type": "code",
   "execution_count": 73,
   "metadata": {
    "slideshow": {
     "slide_type": "fragment"
    }
   },
   "outputs": [
    {
     "name": "stdout",
     "output_type": "stream",
     "text": [
      "http://192.168.39.143:30001\n"
     ]
    }
   ],
   "source": [
    "minikube service hello --url"
   ]
  },
  {
   "cell_type": "markdown",
   "metadata": {
    "cell_style": "split",
    "slideshow": {
     "slide_type": "subslide"
    }
   },
   "source": [
    "Ahora en nuestro deployment con el rol \"hello\" existirán siempre 5 pods corriendo gracias al replicaSet que se generó para supervisar esto, los que consiguieron exponerse al exterior gracias al servicio que acabamos de crear en el puerto 30001."
   ]
  },
  {
   "cell_type": "markdown",
   "metadata": {
    "cell_style": "split",
    "slideshow": {
     "slide_type": "fragment"
    }
   },
   "source": [
    "Entonces si tenemos 5 replicas de nuestro contenedor corriendo bajo el mismo puerto externo, podemos ver como trabaja el balanceador enviando consultas a este puerto:"
   ]
  },
  {
   "cell_type": "code",
   "execution_count": 74,
   "metadata": {
    "cell_style": "center",
    "slideshow": {
     "slide_type": "fragment"
    }
   },
   "outputs": [
    {
     "name": "stdout",
     "output_type": "stream",
     "text": [
      "Hello, world!\n",
      "Version: 1.0.0\n",
      "Hostname: hello-868bcb8b84-xtft5\n",
      "Hello, world!\n",
      "Version: 1.0.0\n",
      "Hostname: hello-868bcb8b84-gtb5x\n",
      "Hello, world!\n",
      "Version: 1.0.0\n",
      "Hostname: hello-868bcb8b84-rdd5h\n",
      "Hello, world!\n",
      "Version: 1.0.0\n",
      "Hostname: hello-868bcb8b84-gtb5x\n",
      "Hello, world!\n",
      "Version: 1.0.0\n",
      "Hostname: hello-868bcb8b84-gtb5x\n"
     ]
    }
   ],
   "source": [
    "curl http://192.168.39.143:30001\n",
    "curl http://192.168.39.143:30001\n",
    "curl http://192.168.39.143:30001\n",
    "curl http://192.168.39.143:30001\n",
    "curl http://192.168.39.143:30001"
   ]
  },
  {
   "cell_type": "code",
   "execution_count": 78,
   "metadata": {
    "slideshow": {
     "slide_type": "subslide"
    }
   },
   "outputs": [
    {
     "name": "stdout",
     "output_type": "stream",
     "text": [
      "NAME               DESIRED   CURRENT   READY   AGE\n",
      "hello-868bcb8b84   5         5         5       4h11m\n",
      "No resources found in testing namespace.\n"
     ]
    }
   ],
   "source": [
    "kubectl -n default get replicaset\n",
    "kubectl -n testing get rs"
   ]
  },
  {
   "cell_type": "markdown",
   "metadata": {},
   "source": [
    "Aquí podemos ver que para el namespace default se generó un ReplicaSet llamado \"hello-868bcb8b84\", pero para el namespace testing no existe ninguno ¿A qué se debe esto?"
   ]
  },
  {
   "cell_type": "markdown",
   "metadata": {
    "slideshow": {
     "slide_type": "fragment"
    }
   },
   "source": [
    "Esto se debe a que si recordamos, solo generamos un deployment para \"hello\".\n",
    "Al generar un deployment, este manda a crear un ReplicaSet para que supervise que siempre se mantengan los pods según las instrucciones que le dimos en el manifiesto, es decir, se preocupa de velar por que se respeten las ordenes generadas en el deployment.\n",
    "\n",
    "Si eliminamos un pod, el ReplicaSet se encarga de tomar el modelo de pod especificado y crear replicas hasta que se cumpla el total de replicas que le encomendamos, ojo que si modificamos la etiqueta de un pod, el replicaset también creará otra copia para mantener la integridad."
   ]
  },
  {
   "cell_type": "markdown",
   "metadata": {},
   "source": [
    "Nota: En caso de detectar un pod con mal funcionamiento es recomendable no destruirlo sin averiguar la razón, en este caso es necesario apartarlo del tráfico regular, esto se hace facilmente solo cambiándole la etiqueta para que el ReplicaSet se encargue de generar una nueva copia pero sin eliminar el pod en mal estado."
   ]
  },
  {
   "cell_type": "markdown",
   "metadata": {
    "slideshow": {
     "slide_type": "slide"
    }
   },
   "source": [
    "## Actualizar versiones\n",
    "\n",
    "Para actualizar de una versión de imagen a otra, es cosa de aplicar otro manifiesto identico al de la versión prueba pero con la imagen de versión actualizada, esto le dará la orden al replicaSet de realizar los cambios respectivos para matar los pods existentes y generar los nuevos"
   ]
  },
  {
   "cell_type": "code",
   "execution_count": 80,
   "metadata": {
    "cell_style": "split",
    "scrolled": false
   },
   "outputs": [
    {
     "name": "stdout",
     "output_type": "stream",
     "text": [
      "apiVersion: apps/v1\n",
      "kind: Deployment\n",
      "metadata:\n",
      "  name: hello\n",
      "spec:\n",
      "  replicas: 3\n",
      "  selector:\n",
      "    matchLabels:\n",
      "      role: hello\n",
      "  template:\n",
      "    metadata:\n",
      "      labels:\n",
      "        role: hello\n",
      "    spec:\n",
      "      containers:\n",
      "      - name: hello\n",
      "        image: gcr.io/google-samples/hello-app:1.0\n",
      "        imagePullPolicy: IfNotPresent\n",
      "        ports:\n",
      "        - containerPort: 8080\n",
      "\n",
      "        \n",
      "        \n"
     ]
    }
   ],
   "source": [
    "cat yaml/01-hello-app-deployment.yaml"
   ]
  },
  {
   "cell_type": "code",
   "execution_count": 79,
   "metadata": {
    "cell_style": "split",
    "scrolled": false
   },
   "outputs": [
    {
     "name": "stdout",
     "output_type": "stream",
     "text": [
      "apiVersion: apps/v1\n",
      "kind: Deployment\n",
      "metadata:\n",
      "  name: hello\n",
      "spec:\n",
      "  replicas: 3\n",
      "  selector:\n",
      "    matchLabels:\n",
      "      role: hello\n",
      "  template:\n",
      "    metadata:\n",
      "      labels:\n",
      "        role: hello\n",
      "    spec:\n",
      "      containers:\n",
      "      - name: hello\n",
      "        image: gcr.io/google-samples/hello-app:2.0\n",
      "        imagePullPolicy: IfNotPresent\n",
      "        ports:\n",
      "        - containerPort: 8080\n"
     ]
    }
   ],
   "source": [
    "cat yaml/03-hello-app-deployment.yaml"
   ]
  },
  {
   "cell_type": "code",
   "execution_count": 81,
   "metadata": {
    "slideshow": {
     "slide_type": "subslide"
    }
   },
   "outputs": [
    {
     "name": "stdout",
     "output_type": "stream",
     "text": [
      "deployment.apps/hello configured\n"
     ]
    }
   ],
   "source": [
    "kubectl apply -f yaml/03-hello-app-deployment.yaml"
   ]
  },
  {
   "cell_type": "code",
   "execution_count": 82,
   "metadata": {
    "slideshow": {
     "slide_type": "-"
    }
   },
   "outputs": [
    {
     "name": "stdout",
     "output_type": "stream",
     "text": [
      "NAME                     READY   STATUS        RESTARTS   AGE\n",
      "hello-6c7b794697-82ccg   1/1     Running       0          32s\n",
      "hello-6c7b794697-ckbt5   0/1     Pending       0          6s\n",
      "hello-6c7b794697-lz6hg   1/1     Running       0          80s\n",
      "hello-868bcb8b84-rdd5h   1/1     Terminating   0          4h28m\n",
      "hello-868bcb8b84-xtft5   1/1     Running       0          4h28m\n"
     ]
    }
   ],
   "source": [
    "kubectl get pods"
   ]
  },
  {
   "cell_type": "code",
   "execution_count": 83,
   "metadata": {},
   "outputs": [
    {
     "name": "stdout",
     "output_type": "stream",
     "text": [
      "NAME                     READY   STATUS    RESTARTS   AGE\n",
      "hello-6c7b794697-82ccg   1/1     Running   0          92s\n",
      "hello-6c7b794697-ckbt5   1/1     Running   0          66s\n",
      "hello-6c7b794697-lz6hg   1/1     Running   0          2m20s\n"
     ]
    }
   ],
   "source": [
    "kubectl get pods"
   ]
  },
  {
   "cell_type": "markdown",
   "metadata": {
    "slideshow": {
     "slide_type": "slide"
    }
   },
   "source": [
    "## Dashboard\n"
   ]
  },
  {
   "cell_type": "code",
   "execution_count": 3,
   "metadata": {
    "slideshow": {
     "slide_type": "fragment"
    }
   },
   "outputs": [
    {
     "name": "stdout",
     "output_type": "stream",
     "text": [
      "🔌  Enabling dashboard ...\n",
      "🤔  Verifying dashboard health ...\n",
      "🚀  Launching proxy ...\n",
      "🤔  Verifying proxy health ...\n",
      "🎉  Opening http://127.0.0.1:42935/api/v1/namespaces/kubernetes-dashboard/services/http:kubernetes-dashboard:/proxy/ in your default browser...\n",
      "\n"
     ]
    }
   ],
   "source": [
    "minikube dashboard"
   ]
  }
 ],
 "metadata": {
  "celltoolbar": "Slideshow",
  "kernelspec": {
   "display_name": "Bash",
   "language": "bash",
   "name": "bash"
  },
  "language_info": {
   "codemirror_mode": "shell",
   "file_extension": ".sh",
   "mimetype": "text/x-sh",
   "name": "bash"
  }
 },
 "nbformat": 4,
 "nbformat_minor": 4
}
