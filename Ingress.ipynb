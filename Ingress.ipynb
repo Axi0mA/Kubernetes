{
 "cells": [
  {
   "cell_type": "markdown",
   "metadata": {
    "slideshow": {
     "slide_type": "slide"
    }
   },
   "source": [
    "# Ingress\n",
    "\n",
    "Hasta el momento tenemos los servicios expuestos de la siguiente manera"
   ]
  },
  {
   "cell_type": "markdown",
   "metadata": {
    "cell_style": "split",
    "slideshow": {
     "slide_type": "fragment"
    }
   },
   "source": [
    "![title](images/ingress-nodeport)"
   ]
  },
  {
   "cell_type": "markdown",
   "metadata": {
    "cell_style": "split",
    "slideshow": {
     "slide_type": "-"
    }
   },
   "source": [
    "![title](images/ingress03)"
   ]
  },
  {
   "cell_type": "code",
   "execution_count": null,
   "metadata": {},
   "outputs": [],
   "source": []
  },
  {
   "cell_type": "markdown",
   "metadata": {
    "cell_style": "center",
    "slideshow": {
     "slide_type": "subslide"
    }
   },
   "source": [
    "Pero tal vez necesitemos exponerlos de manera privada dentro del clúster o directamente en internet. Para exponerlo en internet hay varias maneras, se puede hacer exponiendo un puerto en las máquinas del clúster, exponiendo un loadBalancer, pero una manera mas sencilla es redireccionar todo el tráfico a través de un ingress controllers."
   ]
  },
  {
   "cell_type": "markdown",
   "metadata": {
    "cell_style": "split",
    "slideshow": {
     "slide_type": "fragment"
    }
   },
   "source": [
    "![title](images/ingress-loadbalancer)"
   ]
  },
  {
   "cell_type": "markdown",
   "metadata": {
    "cell_style": "split",
    "slideshow": {
     "slide_type": "fragment"
    }
   },
   "source": [
    "![title](images/ingress-00)"
   ]
  },
  {
   "cell_type": "markdown",
   "metadata": {
    "cell_style": "split",
    "slideshow": {
     "slide_type": "fragment"
    }
   },
   "source": [
    "![title](images/ingress04)"
   ]
  },
  {
   "cell_type": "markdown",
   "metadata": {
    "slideshow": {
     "slide_type": "subslide"
    }
   },
   "source": [
    "![title](images/ingress2-00)"
   ]
  },
  {
   "cell_type": "markdown",
   "metadata": {
    "slideshow": {
     "slide_type": "subslide"
    }
   },
   "source": [
    "### En minikube"
   ]
  },
  {
   "cell_type": "code",
   "execution_count": 7,
   "metadata": {
    "slideshow": {
     "slide_type": "fragment"
    }
   },
   "outputs": [
    {
     "name": "stdout",
     "output_type": "stream",
     "text": [
      "🔎  Verifying ingress addon...\n",
      "🌟  The 'ingress' addon is enabled\n"
     ]
    }
   ],
   "source": [
    "minikube addons enable ingress  "
   ]
  },
  {
   "cell_type": "code",
   "execution_count": 156,
   "metadata": {
    "cell_style": "split",
    "slideshow": {
     "slide_type": "subslide"
    }
   },
   "outputs": [
    {
     "name": "stdout",
     "output_type": "stream",
     "text": [
      "apiVersion: apps/v1\n",
      "kind: Deployment\n",
      "metadata:\n",
      "  name: microbot\n",
      "spec:\n",
      "  replicas: 3\n",
      "  selector:\n",
      "    matchLabels:\n",
      "      role: microbot\n",
      "  template:\n",
      "    metadata:\n",
      "      labels:\n",
      "        role: microbot\n",
      "    spec:\n",
      "      containers:\n",
      "      - name: microbot\n",
      "        image: https://hub.docker.com/r/fr3nd/xeyes/\n",
      "        imagePullPolicy: IfNotPresent\n",
      "        ports:\n",
      "        - containerPort: 8080\n",
      "\n"
     ]
    }
   ],
   "source": [
    "cat yaml/ingress/deployment_microbot.yaml"
   ]
  },
  {
   "cell_type": "code",
   "execution_count": 213,
   "metadata": {
    "cell_style": "split"
   },
   "outputs": [
    {
     "name": "stdout",
     "output_type": "stream",
     "text": [
      "deployment.apps/microbot configured\n"
     ]
    }
   ],
   "source": [
    "kubectl apply -f yaml/ingress/deployment_microbot.yaml"
   ]
  },
  {
   "cell_type": "code",
   "execution_count": 158,
   "metadata": {
    "cell_style": "split"
   },
   "outputs": [
    {
     "name": "stdout",
     "output_type": "stream",
     "text": [
      "apiVersion: v1\n",
      "kind: Service\n",
      "metadata:\n",
      "  name: microbot\n",
      "spec:\n",
      "  type: NodePort\n",
      "  ports:\n",
      "  - port: 8080\n",
      "    targetPort: 8080\n",
      "    nodePort: 30003\n",
      "  selector:\n",
      "    role: microbot\n"
     ]
    }
   ],
   "source": [
    "cat yaml/ingress/service_microbot.yaml"
   ]
  },
  {
   "cell_type": "code",
   "execution_count": 71,
   "metadata": {
    "cell_style": "split"
   },
   "outputs": [
    {
     "name": "stdout",
     "output_type": "stream",
     "text": [
      "service/microbot unchanged\n"
     ]
    }
   ],
   "source": [
    "kubectl apply -f yaml/ingress/service_microbot.yaml"
   ]
  },
  {
   "cell_type": "code",
   "execution_count": 102,
   "metadata": {
    "slideshow": {
     "slide_type": "subslide"
    }
   },
   "outputs": [
    {
     "name": "stdout",
     "output_type": "stream",
     "text": [
      "NAME                            READY   STATUS    RESTARTS   AGE\n",
      "pod/hello-6c7b794697-82ccg      1/1     Running   1          13h\n",
      "pod/hello-6c7b794697-ckbt5      1/1     Running   1          13h\n",
      "pod/hello-6c7b794697-lz6hg      1/1     Running   1          13h\n",
      "pod/microbot-744f5c9c45-959lz   1/1     Running   0          112m\n",
      "pod/microbot-744f5c9c45-b8552   1/1     Running   0          112m\n",
      "pod/microbot-744f5c9c45-spvgl   1/1     Running   0          113m\n",
      "\n",
      "NAME                 TYPE        CLUSTER-IP       EXTERNAL-IP   PORT(S)          AGE\n",
      "service/hello        NodePort    10.100.218.209   <none>        8080:30001/TCP   14h\n",
      "service/kubernetes   ClusterIP   10.96.0.1        <none>        443/TCP          18h\n",
      "service/microbot     NodePort    10.106.77.191    <none>        8080:30003/TCP   120m\n",
      "\n",
      "NAME                       READY   UP-TO-DATE   AVAILABLE   AGE\n",
      "deployment.apps/hello      3/3     3            3           18h\n",
      "deployment.apps/microbot   3/3     3            3           122m\n",
      "\n",
      "NAME                                  DESIRED   CURRENT   READY   AGE\n",
      "replicaset.apps/hello-6c7b794697      3         3         3       13h\n",
      "replicaset.apps/hello-868bcb8b84      0         0         0       18h\n",
      "replicaset.apps/microbot-6bc55df548   0         0         0       32m\n",
      "replicaset.apps/microbot-744f5c9c45   3         3         3       113m\n",
      "replicaset.apps/microbot-8cdbd98c5    0         0         0       122m\n"
     ]
    }
   ],
   "source": [
    "kubectl get all"
   ]
  },
  {
   "cell_type": "code",
   "execution_count": 74,
   "metadata": {
    "slideshow": {
     "slide_type": "fragment"
    }
   },
   "outputs": [
    {
     "name": "stdout",
     "output_type": "stream",
     "text": [
      "|-----------|----------|-------------|-----------------------------|\n",
      "| NAMESPACE |   NAME   | TARGET PORT |             URL             |\n",
      "|-----------|----------|-------------|-----------------------------|\n",
      "| default   | microbot |        8080 | http://192.168.39.143:30003 |\n",
      "|-----------|----------|-------------|-----------------------------|\n",
      "🎉  Opening service default/microbot in default browser...\n"
     ]
    }
   ],
   "source": [
    "minikube service microbot "
   ]
  },
  {
   "cell_type": "markdown",
   "metadata": {
    "slideshow": {
     "slide_type": "subslide"
    }
   },
   "source": [
    "#### Ahora crearemos el ingress"
   ]
  },
  {
   "cell_type": "code",
   "execution_count": 120,
   "metadata": {
    "cell_style": "split",
    "scrolled": false
   },
   "outputs": [
    {
     "name": "stdout",
     "output_type": "stream",
     "text": [
      "apiVersion: networking.k8s.io/v1\n",
      "kind: Ingress\n",
      "metadata:\n",
      "  name: example-ingress\n",
      "  annotations:\n",
      "    nginx.ingress.kubernetes.io/rewrite-target: /$1\n",
      "spec:\n",
      "  rules:\n",
      "    - host: hello-world.info\n",
      "      http:\n",
      "        paths:\n",
      "          - path: /\n",
      "            pathType: Prefix\n",
      "            backend:\n",
      "              service:\n",
      "                name: hello\n",
      "                port:\n",
      "                  number: 8080\n",
      "          - path: /fun\n",
      "            pathType: Prefix\n",
      "            backend:\n",
      "              service:\n",
      "                name: microbot\n",
      "                port:\n",
      "                  number: 8080\n"
     ]
    }
   ],
   "source": [
    "cat yaml/ingress/ingress.yaml"
   ]
  },
  {
   "cell_type": "code",
   "execution_count": 121,
   "metadata": {
    "cell_style": "split"
   },
   "outputs": [
    {
     "name": "stdout",
     "output_type": "stream",
     "text": [
      "ingress.networking.k8s.io/example-ingress configured\n"
     ]
    }
   ],
   "source": [
    "kubectl apply -f yaml/ingress/ingress.yaml"
   ]
  },
  {
   "cell_type": "code",
   "execution_count": 122,
   "metadata": {
    "slideshow": {
     "slide_type": "subslide"
    }
   },
   "outputs": [
    {
     "name": "stdout",
     "output_type": "stream",
     "text": [
      "NAME         TYPE        CLUSTER-IP       EXTERNAL-IP   PORT(S)          AGE\n",
      "hello        NodePort    10.100.218.209   <none>        8080:30001/TCP   14h\n",
      "kubernetes   ClusterIP   10.96.0.1        <none>        443/TCP          18h\n",
      "microbot     NodePort    10.106.77.191    <none>        8080:30003/TCP   132m\n"
     ]
    }
   ],
   "source": [
    "kubectl get services"
   ]
  },
  {
   "cell_type": "code",
   "execution_count": 123,
   "metadata": {},
   "outputs": [
    {
     "name": "stdout",
     "output_type": "stream",
     "text": [
      "\u001b[33;1mWarning:\u001b[0m extensions/v1beta1 Ingress is deprecated in v1.14+, unavailable in v1.22+; use networking.k8s.io/v1 Ingress\n",
      "NAME              CLASS    HOSTS              ADDRESS          PORTS   AGE\n",
      "example-ingress   <none>   hello-world.info   192.168.39.143   80      28m\n"
     ]
    }
   ],
   "source": [
    "kubectl get ingress"
   ]
  },
  {
   "cell_type": "code",
   "execution_count": 127,
   "metadata": {},
   "outputs": [
    {
     "name": "stdout",
     "output_type": "stream",
     "text": [
      "\u001b[33;1mWarning:\u001b[0m extensions/v1beta1 Ingress is deprecated in v1.14+, unavailable in v1.22+; use networking.k8s.io/v1 Ingress\n",
      "Name:             example-ingress\n",
      "Namespace:        default\n",
      "Address:          192.168.39.143\n",
      "Default backend:  default-http-backend:80 (<error: endpoints \"default-http-backend\" not found>)\n",
      "Rules:\n",
      "  Host              Path  Backends\n",
      "  ----              ----  --------\n",
      "  hello-world.info  \n",
      "                    /      hello:8080      172.17.0.5:8080,172.17.0.6:8080,172.17.0.7:8080)\n",
      "                    /fun   microbot:8080   172.17.0.13:8080,172.17.0.14:8080,172.17.0.15:8080)\n",
      "Annotations:        nginx.ingress.kubernetes.io/rewrite-target: /$1\n",
      "Events:\n",
      "  Type    Reason  Age                  From                      Message\n",
      "  ----    ------  ----                 ----                      -------\n",
      "  Normal  CREATE  30m                  nginx-ingress-controller  Ingress default/example-ingress\n",
      "  Normal  UPDATE  2m52s (x4 over 30m)  nginx-ingress-controller  Ingress default/example-ingress\n"
     ]
    }
   ],
   "source": [
    "kubectl describe ingress example-ingress"
   ]
  },
  {
   "cell_type": "code",
   "execution_count": 104,
   "metadata": {
    "slideshow": {
     "slide_type": "subslide"
    }
   },
   "outputs": [
    {
     "name": "stdout",
     "output_type": "stream",
     "text": [
      "192.168.39.143\n"
     ]
    }
   ],
   "source": [
    "minikube ip"
   ]
  },
  {
   "cell_type": "markdown",
   "metadata": {},
   "source": [
    "Modificar el archivo de hosts para añadir el alias a la ip de minikube  \n",
    "```sudo nano /etc/hosts```\n",
    "\n",
    "añadir la linea:  \n",
    "```192.168.39.143 hello-world.info``` "
   ]
  },
  {
   "cell_type": "code",
   "execution_count": 217,
   "metadata": {},
   "outputs": [
    {
     "name": "stdout",
     "output_type": "stream",
     "text": [
      "Hello, world!\n",
      "Version: 2.0.0\n",
      "Hostname: microbot-744f5c9c45-spvgl\n",
      "Hello, world!\n",
      "Version: 2.0.0\n",
      "Hostname: hello-6c7b794697-lz6hg\n"
     ]
    }
   ],
   "source": [
    "curl hello-world.info/fun\n",
    "curl hello-world.info/hello"
   ]
  },
  {
   "cell_type": "code",
   "execution_count": null,
   "metadata": {},
   "outputs": [],
   "source": []
  }
 ],
 "metadata": {
  "celltoolbar": "Slideshow",
  "kernelspec": {
   "display_name": "Bash",
   "language": "bash",
   "name": "bash"
  },
  "language_info": {
   "codemirror_mode": "shell",
   "file_extension": ".sh",
   "mimetype": "text/x-sh",
   "name": "bash"
  }
 },
 "nbformat": 4,
 "nbformat_minor": 4
}
