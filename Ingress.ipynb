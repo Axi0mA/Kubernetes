{
 "cells": [
  {
   "cell_type": "markdown",
   "metadata": {
    "slideshow": {
     "slide_type": "slide"
    }
   },
   "source": [
    "# Ingress\n",
    "\n",
    "Hasta el momento tenemos los servicios expuestos de la siguiente manera"
   ]
  },
  {
   "cell_type": "markdown",
   "metadata": {
    "cell_style": "split",
    "slideshow": {
     "slide_type": "fragment"
    }
   },
   "source": [
    "![title](images/ingress-nodeport)"
   ]
  },
  {
   "cell_type": "markdown",
   "metadata": {
    "cell_style": "split",
    "slideshow": {
     "slide_type": "-"
    }
   },
   "source": [
    "![title](images/ingress03)"
   ]
  },
  {
   "cell_type": "code",
   "execution_count": null,
   "metadata": {},
   "outputs": [],
   "source": []
  },
  {
   "cell_type": "markdown",
   "metadata": {
    "cell_style": "center",
    "slideshow": {
     "slide_type": "subslide"
    }
   },
   "source": [
    "Pero tal vez necesitemos exponerlos de manera privada dentro del clúster o directamente en internet. Para exponerlo en internet hay varias maneras, se puede hacer exponiendo un puerto en las máquinas del clúster, exponiendo un loadBalancer, pero una manera mas sencilla es redireccionar todo el tráfico a través de un ingress controllers."
   ]
  },
  {
   "cell_type": "markdown",
   "metadata": {
    "cell_style": "split",
    "slideshow": {
     "slide_type": "fragment"
    }
   },
   "source": [
    "![title](images/ingress-loadbalancer)"
   ]
  },
  {
   "cell_type": "markdown",
   "metadata": {
    "cell_style": "split",
    "slideshow": {
     "slide_type": "fragment"
    }
   },
   "source": [
    "![title](images/ingress-00)"
   ]
  },
  {
   "cell_type": "markdown",
   "metadata": {
    "cell_style": "split",
    "slideshow": {
     "slide_type": "fragment"
    }
   },
   "source": [
    "![title](images/ingress04)"
   ]
  },
  {
   "cell_type": "markdown",
   "metadata": {
    "slideshow": {
     "slide_type": "subslide"
    }
   },
   "source": [
    "![title](images/ingress2-00)"
   ]
  },
  {
   "cell_type": "markdown",
   "metadata": {
    "slideshow": {
     "slide_type": "subslide"
    }
   },
   "source": [
    "### En minikube"
   ]
  },
  {
   "cell_type": "code",
   "execution_count": 1,
   "metadata": {},
   "outputs": [
    {
     "name": "stdout",
     "output_type": "stream",
     "text": [
      "😄  minikube v1.13.1 en Arch 20.1.1\n",
      "✨  Using the kvm2 driver based on existing profile\n",
      "👍  Starting control plane node minikube in cluster minikube\n",
      "🔄  Restarting existing kvm2 VM for \"minikube\" ...\n",
      "🐳  Preparando Kubernetes v1.19.2 en Docker 19.03.12...\n",
      "🔎  Verifying Kubernetes components...\n",
      "🔎  Verifying ingress addon...\n",
      "🌟  Enabled addons: dashboard, default-storageclass, ingress, storage-provisioner\n",
      "🏄  Done! kubectl is now configured to use \"minikube\" by default\n"
     ]
    }
   ],
   "source": [
    "minikube start"
   ]
  },
  {
   "cell_type": "code",
   "execution_count": 7,
   "metadata": {
    "slideshow": {
     "slide_type": "fragment"
    }
   },
   "outputs": [
    {
     "name": "stdout",
     "output_type": "stream",
     "text": [
      "🔎  Verifying ingress addon...\n",
      "🌟  The 'ingress' addon is enabled\n"
     ]
    }
   ],
   "source": [
    "minikube addons enable ingress  "
   ]
  },
  {
   "cell_type": "code",
   "execution_count": 60,
   "metadata": {
    "cell_style": "split",
    "slideshow": {
     "slide_type": "subslide"
    }
   },
   "outputs": [
    {
     "name": "stdout",
     "output_type": "stream",
     "text": [
      "apiVersion: apps/v1\n",
      "kind: Deployment\n",
      "metadata:\n",
      "  name: microbot\n",
      "spec:\n",
      "  replicas: 3\n",
      "  selector:\n",
      "    matchLabels:\n",
      "      role: microbot\n",
      "  template:\n",
      "    metadata:\n",
      "      labels:\n",
      "        role: microbot\n",
      "    spec:\n",
      "      containers:\n",
      "      - name: microbot\n",
      "        image: gcr.io/google-samples/hello-app:2.0\n",
      "        imagePullPolicy: Never\n",
      "        ports:\n",
      "        - containerPort: 8080\n",
      "\n"
     ]
    }
   ],
   "source": [
    "cat yaml/ingress/deployment_microbot.yaml"
   ]
  },
  {
   "cell_type": "code",
   "execution_count": 61,
   "metadata": {
    "cell_style": "split"
   },
   "outputs": [
    {
     "name": "stdout",
     "output_type": "stream",
     "text": [
      "deployment.apps/microbot configured\n"
     ]
    }
   ],
   "source": [
    "kubectl apply -f yaml/ingress/deployment_microbot.yaml"
   ]
  },
  {
   "cell_type": "code",
   "execution_count": 62,
   "metadata": {
    "cell_style": "split"
   },
   "outputs": [
    {
     "name": "stdout",
     "output_type": "stream",
     "text": [
      "apiVersion: v1\n",
      "kind: Service\n",
      "metadata:\n",
      "  name: microbot\n",
      "spec:\n",
      "  type: NodePort\n",
      "  ports:\n",
      "  - port: 8080\n",
      "    targetPort: 8080\n",
      "    nodePort: 30003\n",
      "  selector:\n",
      "    role: microbot\n"
     ]
    }
   ],
   "source": [
    "cat yaml/ingress/service_microbot.yaml"
   ]
  },
  {
   "cell_type": "code",
   "execution_count": 63,
   "metadata": {
    "cell_style": "split"
   },
   "outputs": [
    {
     "name": "stdout",
     "output_type": "stream",
     "text": [
      "service/microbot unchanged\n"
     ]
    }
   ],
   "source": [
    "kubectl apply -f yaml/ingress/service_microbot.yaml"
   ]
  },
  {
   "cell_type": "code",
   "execution_count": 6,
   "metadata": {
    "slideshow": {
     "slide_type": "subslide"
    }
   },
   "outputs": [
    {
     "name": "stdout",
     "output_type": "stream",
     "text": [
      "NAME                            READY   STATUS    RESTARTS   AGE\n",
      "pod/hello-6c7b794697-82ccg      1/1     Running   3          7d2h\n",
      "pod/hello-6c7b794697-ckbt5      1/1     Running   3          7d2h\n",
      "pod/hello-6c7b794697-lz6hg      1/1     Running   3          7d2h\n",
      "pod/microbot-54bbf649c4-624zj   1/1     Running   1          41m\n",
      "pod/microbot-54bbf649c4-cz5jl   1/1     Running   1          43m\n",
      "pod/microbot-54bbf649c4-wc95x   1/1     Running   0          64s\n",
      "\n",
      "NAME                 TYPE        CLUSTER-IP       EXTERNAL-IP   PORT(S)          AGE\n",
      "service/hello        NodePort    10.100.218.209   <none>        8080:30001/TCP   7d3h\n",
      "service/kubernetes   ClusterIP   10.96.0.1        <none>        443/TCP          7d7h\n",
      "service/microbot     NodePort    10.106.77.191    <none>        8080:30003/TCP   6d15h\n",
      "\n",
      "NAME                       READY   UP-TO-DATE   AVAILABLE   AGE\n",
      "deployment.apps/hello      3/3     3            3           7d7h\n",
      "deployment.apps/microbot   3/3     3            3           6d15h\n",
      "\n",
      "NAME                                  DESIRED   CURRENT   READY   AGE\n",
      "replicaset.apps/hello-6c7b794697      3         3         3       7d2h\n",
      "replicaset.apps/hello-868bcb8b84      0         0         0       7d7h\n",
      "replicaset.apps/microbot-5466b6cddc   0         0         0       4h12m\n",
      "replicaset.apps/microbot-54bbf649c4   3         3         3       44m\n",
      "replicaset.apps/microbot-5584946f8f   0         0         0       6d12h\n",
      "replicaset.apps/microbot-55c67b9b6d   0         0         0       4h11m\n",
      "replicaset.apps/microbot-5c6bbfdbd4   0         0         0       4h1m\n",
      "replicaset.apps/microbot-6dd4ff7fcc   0         0         0       6d12h\n",
      "replicaset.apps/microbot-6fd9dcf57c   0         0         0       3h59m\n",
      "replicaset.apps/microbot-7b55bff84d   0         0         0       4h5m\n",
      "replicaset.apps/microbot-7bb4dc4c6    0         0         0       6d12h\n",
      "replicaset.apps/microbot-7d78b6f698   0         0         0       6d12h\n",
      "replicaset.apps/microbot-869776cdb    0         0         0       3h58m\n"
     ]
    }
   ],
   "source": [
    "kubectl get all"
   ]
  },
  {
   "cell_type": "code",
   "execution_count": 17,
   "metadata": {
    "slideshow": {
     "slide_type": "fragment"
    }
   },
   "outputs": [
    {
     "name": "stdout",
     "output_type": "stream",
     "text": [
      "|-----------|----------|-------------|-----------------------------|\n",
      "| NAMESPACE |   NAME   | TARGET PORT |             URL             |\n",
      "|-----------|----------|-------------|-----------------------------|\n",
      "| default   | microbot |        8080 | http://192.168.39.143:30003 |\n",
      "|-----------|----------|-------------|-----------------------------|\n",
      "🎉  Opening service default/microbot in default browser...\n"
     ]
    }
   ],
   "source": [
    "minikube service microbot "
   ]
  },
  {
   "cell_type": "markdown",
   "metadata": {
    "slideshow": {
     "slide_type": "subslide"
    }
   },
   "source": [
    "#### Ahora crearemos el ingress"
   ]
  },
  {
   "cell_type": "code",
   "execution_count": 120,
   "metadata": {
    "cell_style": "split",
    "scrolled": false
   },
   "outputs": [
    {
     "name": "stdout",
     "output_type": "stream",
     "text": [
      "apiVersion: networking.k8s.io/v1\n",
      "kind: Ingress\n",
      "metadata:\n",
      "  name: example-ingress\n",
      "  annotations:\n",
      "    nginx.ingress.kubernetes.io/rewrite-target: /$1\n",
      "spec:\n",
      "  rules:\n",
      "    - host: hello-world.info\n",
      "      http:\n",
      "        paths:\n",
      "          - path: /\n",
      "            pathType: Prefix\n",
      "            backend:\n",
      "              service:\n",
      "                name: hello\n",
      "                port:\n",
      "                  number: 8080\n",
      "          - path: /fun\n",
      "            pathType: Prefix\n",
      "            backend:\n",
      "              service:\n",
      "                name: microbot\n",
      "                port:\n",
      "                  number: 8080\n"
     ]
    }
   ],
   "source": [
    "cat yaml/ingress/ingress.yaml"
   ]
  },
  {
   "cell_type": "code",
   "execution_count": 121,
   "metadata": {
    "cell_style": "split"
   },
   "outputs": [
    {
     "name": "stdout",
     "output_type": "stream",
     "text": [
      "ingress.networking.k8s.io/example-ingress configured\n"
     ]
    }
   ],
   "source": [
    "kubectl apply -f yaml/ingress/ingress.yaml"
   ]
  },
  {
   "cell_type": "code",
   "execution_count": 122,
   "metadata": {
    "slideshow": {
     "slide_type": "subslide"
    }
   },
   "outputs": [
    {
     "name": "stdout",
     "output_type": "stream",
     "text": [
      "NAME         TYPE        CLUSTER-IP       EXTERNAL-IP   PORT(S)          AGE\n",
      "hello        NodePort    10.100.218.209   <none>        8080:30001/TCP   14h\n",
      "kubernetes   ClusterIP   10.96.0.1        <none>        443/TCP          18h\n",
      "microbot     NodePort    10.106.77.191    <none>        8080:30003/TCP   132m\n"
     ]
    }
   ],
   "source": [
    "kubectl get services"
   ]
  },
  {
   "cell_type": "code",
   "execution_count": 123,
   "metadata": {},
   "outputs": [
    {
     "name": "stdout",
     "output_type": "stream",
     "text": [
      "\u001b[33;1mWarning:\u001b[0m extensions/v1beta1 Ingress is deprecated in v1.14+, unavailable in v1.22+; use networking.k8s.io/v1 Ingress\n",
      "NAME              CLASS    HOSTS              ADDRESS          PORTS   AGE\n",
      "example-ingress   <none>   hello-world.info   192.168.39.143   80      28m\n"
     ]
    }
   ],
   "source": [
    "kubectl get ingress"
   ]
  },
  {
   "cell_type": "code",
   "execution_count": 127,
   "metadata": {},
   "outputs": [
    {
     "name": "stdout",
     "output_type": "stream",
     "text": [
      "\u001b[33;1mWarning:\u001b[0m extensions/v1beta1 Ingress is deprecated in v1.14+, unavailable in v1.22+; use networking.k8s.io/v1 Ingress\n",
      "Name:             example-ingress\n",
      "Namespace:        default\n",
      "Address:          192.168.39.143\n",
      "Default backend:  default-http-backend:80 (<error: endpoints \"default-http-backend\" not found>)\n",
      "Rules:\n",
      "  Host              Path  Backends\n",
      "  ----              ----  --------\n",
      "  hello-world.info  \n",
      "                    /      hello:8080      172.17.0.5:8080,172.17.0.6:8080,172.17.0.7:8080)\n",
      "                    /fun   microbot:8080   172.17.0.13:8080,172.17.0.14:8080,172.17.0.15:8080)\n",
      "Annotations:        nginx.ingress.kubernetes.io/rewrite-target: /$1\n",
      "Events:\n",
      "  Type    Reason  Age                  From                      Message\n",
      "  ----    ------  ----                 ----                      -------\n",
      "  Normal  CREATE  30m                  nginx-ingress-controller  Ingress default/example-ingress\n",
      "  Normal  UPDATE  2m52s (x4 over 30m)  nginx-ingress-controller  Ingress default/example-ingress\n"
     ]
    }
   ],
   "source": [
    "kubectl describe ingress example-ingress"
   ]
  },
  {
   "cell_type": "code",
   "execution_count": 104,
   "metadata": {
    "slideshow": {
     "slide_type": "subslide"
    }
   },
   "outputs": [
    {
     "name": "stdout",
     "output_type": "stream",
     "text": [
      "192.168.39.143\n"
     ]
    }
   ],
   "source": [
    "minikube ip"
   ]
  },
  {
   "cell_type": "markdown",
   "metadata": {},
   "source": [
    "Modificar el archivo de hosts para añadir el alias a la ip de minikube  \n",
    "```sudo nano /etc/hosts```\n",
    "\n",
    "añadir la linea:  \n",
    "```192.168.39.143 hello-world.info``` "
   ]
  },
  {
   "cell_type": "code",
   "execution_count": 217,
   "metadata": {},
   "outputs": [
    {
     "name": "stdout",
     "output_type": "stream",
     "text": [
      "Hello, world!\n",
      "Version: 2.0.0\n",
      "Hostname: microbot-744f5c9c45-spvgl\n",
      "Hello, world!\n",
      "Version: 2.0.0\n",
      "Hostname: hello-6c7b794697-lz6hg\n"
     ]
    }
   ],
   "source": [
    "curl hello-world.info/fun\n",
    "curl hello-world.info/hello"
   ]
  },
  {
   "cell_type": "code",
   "execution_count": 43,
   "metadata": {},
   "outputs": [
    {
     "name": "stdout",
     "output_type": "stream",
     "text": [
      "Name:         microbot-7b55bff84d-br6rt\n",
      "Namespace:    default\n",
      "Priority:     0\n",
      "Node:         minikube/192.168.39.143\n",
      "Start Time:   Wed, 21 Oct 2020 00:15:22 -0300\n",
      "Labels:       pod-template-hash=7b55bff84d\n",
      "              role=microbot\n",
      "Annotations:  <none>\n",
      "Status:       Running\n",
      "IP:           172.17.0.13\n",
      "IPs:\n",
      "  IP:           172.17.0.13\n",
      "Controlled By:  ReplicaSet/microbot-7b55bff84d\n",
      "Containers:\n",
      "  microbot:\n",
      "    Container ID:  docker://ec2c8dff137c3f6a44eea8f60b4a841a515f13590a7c1c0b5e9e1bfac348327e\n",
      "    Image:         dontrebootme/microbot\n",
      "    Image ID:      docker-pullable://dontrebootme/microbot@sha256:aa4fb2f69b00698e4db96d4e7a59a3e6a2ec0ee10679f39a491eb1def1720ea7\n",
      "    Port:          8080/TCP\n",
      "    Host Port:     0/TCP\n",
      "    Command:\n",
      "      /bin/bash\n",
      "      -c\n",
      "      --\n",
      "    Args:\n",
      "      while true; do sleep 30; done;\n",
      "    State:          Waiting\n",
      "      Reason:       RunContainerError\n",
      "    Last State:     Terminated\n",
      "      Exit Code:    0\n",
      "      Started:      Mon, 01 Jan 0001 00:00:00 +0000\n",
      "      Finished:     Mon, 01 Jan 0001 00:00:00 +0000\n",
      "    Ready:          False\n",
      "    Restart Count:  1\n",
      "    Environment:    <none>\n",
      "    Mounts:\n",
      "      /var/run/secrets/kubernetes.io/serviceaccount from default-token-2xfng (ro)\n",
      "Conditions:\n",
      "  Type              Status\n",
      "  Initialized       True \n",
      "  Ready             False \n",
      "  ContainersReady   False \n",
      "  PodScheduled      True \n",
      "Volumes:\n",
      "  default-token-2xfng:\n",
      "    Type:        Secret (a volume populated by a Secret)\n",
      "    SecretName:  default-token-2xfng\n",
      "    Optional:    false\n",
      "QoS Class:       BestEffort\n",
      "Node-Selectors:  <none>\n",
      "Tolerations:     node.kubernetes.io/not-ready:NoExecute op=Exists for 300s\n",
      "                 node.kubernetes.io/unreachable:NoExecute op=Exists for 300s\n",
      "Events:\n",
      "  Type     Reason     Age                      From               Message\n",
      "  ----     ------     ----                     ----               -------\n",
      "  Normal   Scheduled  32s                      default-scheduler  Successfully assigned default/microbot-7b55bff84d-br6rt to minikube\n",
      "  Warning  Failed     4s (x2 over 14s)         kubelet            Error: failed to start container \"microbot\": Error response from daemon: OCI runtime create failed: container_linux.go:349: starting container process caused \"exec: \\\"/bin/bash\\\": stat /bin/bash: no such file or directory\": unknown\n",
      "  Normal   Pulled     <invalid> (x3 over 20s)  kubelet            Container image \"dontrebootme/microbot\" already present on machine\n",
      "  Normal   Created    <invalid> (x3 over 17s)  kubelet            Created container microbot\n"
     ]
    }
   ],
   "source": [
    "kubectl describe pod microbot-7b55bff84d-br6rt"
   ]
  },
  {
   "cell_type": "code",
   "execution_count": null,
   "metadata": {},
   "outputs": [],
   "source": []
  }
 ],
 "metadata": {
  "celltoolbar": "Slideshow",
  "kernelspec": {
   "display_name": "Bash",
   "language": "bash",
   "name": "bash"
  },
  "language_info": {
   "codemirror_mode": "shell",
   "file_extension": ".sh",
   "mimetype": "text/x-sh",
   "name": "bash"
  }
 },
 "nbformat": 4,
 "nbformat_minor": 4
}
